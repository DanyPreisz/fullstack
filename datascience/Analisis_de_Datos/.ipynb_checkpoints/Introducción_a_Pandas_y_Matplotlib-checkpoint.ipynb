{
 "cells": [
  {
   "cell_type": "code",
   "execution_count": 2,
   "id": "6f0f10c1",
   "metadata": {},
   "outputs": [],
   "source": [
    "import pandas as pd\n",
    "import matplotlib.pyplot as plt"
   ]
  },
  {
   "cell_type": "markdown",
   "id": "cdeafe1a",
   "metadata": {},
   "source": [
    "### Creación de un Dataframe"
   ]
  },
  {
   "cell_type": "code",
   "execution_count": 4,
   "id": "8ba9c30e",
   "metadata": {},
   "outputs": [
    {
     "name": "stdout",
     "output_type": "stream",
     "text": [
      "{'years': [2010, 2011, 2012, 2013, 2014, 2015], 'califications': [100, 93, 72, 55, 30, 15]}\n"
     ]
    }
   ],
   "source": [
    "years = [2010, 2011, 2012, 2013, 2014, 2015]\n",
    "califications = [100, 93, 72, 55, 30, 15]\n",
    "cal_dict = {'years': years, 'califications': califications}\n",
    "\n",
    "print(cal_dict)"
   ]
  },
  {
   "cell_type": "markdown",
   "id": "03c25bdf",
   "metadata": {},
   "source": [
    "### Creación de un DataFrame a partir de un diccionario"
   ]
  },
  {
   "cell_type": "code",
   "execution_count": null,
   "id": "e0c4d31c",
   "metadata": {},
   "outputs": [],
   "source": []
  }
 ],
 "metadata": {
  "kernelspec": {
   "display_name": "Python 3",
   "language": "python",
   "name": "python3"
  },
  "language_info": {
   "codemirror_mode": {
    "name": "ipython",
    "version": 3
   },
   "file_extension": ".py",
   "mimetype": "text/x-python",
   "name": "python",
   "nbconvert_exporter": "python",
   "pygments_lexer": "ipython3",
   "version": "3.8.3"
  }
 },
 "nbformat": 4,
 "nbformat_minor": 5
}
