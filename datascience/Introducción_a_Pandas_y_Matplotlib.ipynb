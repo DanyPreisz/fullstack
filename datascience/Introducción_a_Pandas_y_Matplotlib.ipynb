{
 "cells": [
  {
   "cell_type": "code",
   "execution_count": 2,
   "id": "bf56b373",
   "metadata": {},
   "outputs": [],
   "source": [
    "import pandas as pd\n",
    "import matplotlib.pyplot as plt"
   ]
  },
  {
   "cell_type": "markdown",
   "id": "ba059d90",
   "metadata": {},
   "source": [
    "### Creación de un Dataframe"
   ]
  },
  {
   "cell_type": "code",
   "execution_count": 4,
   "id": "6e153b2b",
   "metadata": {},
   "outputs": [
    {
     "name": "stdout",
     "output_type": "stream",
     "text": [
      "{'years': [2010, 2011, 2012, 2013, 2014, 2015], 'califications': [100, 93, 72, 55, 30, 15]}\n"
     ]
    }
   ],
   "source": [
    "years = [2010, 2011, 2012, 2013, 2014, 2015]\n",
    "califications = [100, 93, 72, 55, 30, 15]\n",
    "cal_dict = {'years': years, 'califications': califications}\n",
    "\n",
    "print(cal_dict)"
   ]
  },
  {
   "cell_type": "code",
   "execution_count": null,
   "id": "30dfd4f5",
   "metadata": {},
   "outputs": [],
   "source": []
  }
 ],
 "metadata": {
  "kernelspec": {
   "display_name": "Python 3",
   "language": "python",
   "name": "python3"
  },
  "language_info": {
   "codemirror_mode": {
    "name": "ipython",
    "version": 3
   },
   "file_extension": ".py