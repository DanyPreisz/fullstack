{
 "cells": [
  {
   "cell_type": "markdown",
   "id": "448f8bba",
   "metadata": {},
   "source": [
    "# Importar, resumir y visualizar datos"
   ]
  },
  {
   "cell_type": "markdown",
   "id": "f71419a7",
   "metadata": {},
   "source": [
    "Los datos vienen en muchas formas, pero generalmente se pueden considerar como el resultado\n",
    "de algún experimento aleatorio, un experimento cuyo funcionamiento aún está sujeto a análisis. \n",
    "A menudo se almacenan en una tabla u hoja de cálculo. Una convención estadística es denotar variables o características, como columnas y los elementos individuales (o unidades) como filas. \n",
    "Podemos pensar en tres tipos de columnas en una hoja de cálculo:"
   ]
  },
  {
   "cell_type": "markdown",
   "id": "49ea22d6",
   "metadata": {},
   "source": [
    "#### * fo"
   ]
  },
  {
   "cell_type": "markdown",
   "id": "a9d6edb0",
   "metadata": {},
   "source": []
  },
  {
   "cell_type": "code",
   "execution_count": null,
   "id": "841f7fad",
   "metadata": {},
   "outputs": [],
   "source": []
  }
 ],
 "metadata": {
  "kernelspec": {
   "display_name": "Python 3",
   "language": "python",
   "name": "python3"
  },
  "language_info": {
   "codemirror_mode": {
    "name": "ipython",
    "version": 3
   },
   "file_extension": ".py",
   "mimetype": "text/x-python",
   "name": "python",
   "nbconvert_exporter": "python",
   "pygments_lexer": "ipython3",
   "version": "3.8.3"
  }
 },
 "nbformat": 4,
 "nbformat_minor": 5
}
