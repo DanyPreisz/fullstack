{
 "cells": [
  {
   "cell_type": "markdown",
   "id": "46a66fb1",
   "metadata": {},
   "source": [
    "# Importar, resumir y visualizar datos"
   ]
  },
  {
   "cell_type": "markdown",
   "id": "64786180",
   "metadata": {},
   "source": [
    "Los datos vienen en muchas formas, pero generalmente se pueden considerar como el resultado\n",
    "de algún experimento aleatorio, un experimento cuyo funcionamiento aún está sujeto a análisis. \n",
    "A menudo se almacenan en una tabla u hoja de cálculo. Una convención estadística es denotar variables o características, como columnas y los elementos individuales (o unidades) como filas. \n",
    "Podemos pensar en tres tipos de columnas en una hoja de cálculo:\n",
    "* fo"
   ]
  },
  {
   "cell_type": "markdown",
   "id": "c8959739",
   "metadata": {},
   "source": []
  },
  {
   "cell_type": "markdown",
   "id": "83fe91f1",
   "metadata": {},
   "source": []
  },
  {
   "cell_type": "code",
   "execution_count": null,
   "id": "a3964303",
   "metadata": {},
   "outputs": [],
   "source": []
  }
 ],
 "metadata": {
  "kernelspec": {
   "display_name": "Python 3",
   "language": "python",
   "name": "python3"
  },
  "language_info": {
   "codemirror_mode": {
    "name": "ipython",
    "version": 3
   },
   "file_extension": ".py",
   "mimetype": "text/x-python",
   "name": "python",
   "nbconvert_exporter": "python",
   "pygments_lexer": "ipython3",
   "version": "3.8.3"
  }
 },
 "nbformat": 4,
 "nbformat_minor": 5
}
