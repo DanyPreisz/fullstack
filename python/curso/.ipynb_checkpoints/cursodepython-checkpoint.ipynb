{
 "cells": [
  {
   "cell_type": "markdown",
   "metadata": {},
   "source": [
    "¿Qué es Python?\n",
    "Python es un lenguaje de programación simple, de propósito general, dinámico, de alto nivel, interactivo, interpretado, y orientado a objetos. Es uno de los más populares en el mundo.\n",
    "Guido van Rossum desarrolló Python en el National Research Institute de Países Bajos en los 1980s. Su primera versión fue presentada oficialmente en 1991. Es usado por millones de websites, apps y juegos.\n",
    "Hola Mundo en Python\n",
    "Podemos hacerlo con un solo statement."
   ]
  },
  {
   "cell_type": "code",
   "execution_count": 1,
   "metadata": {},
   "outputs": [
    {
     "name": "stdout",
     "output_type": "stream",
     "text": [
      "Hello World\n"
     ]
    }
   ],
   "source": [
    "print(\"Hello World\")"
   ]
  },
  {
   "cell_type": "code",
   "execution_count": null,
   "metadata": {},
   "outputs": [],
   "source": []
  }
 ],
 "metadata": {
  "kernelspec": {
   "display_name": "Python 3",
   "language": "python",
   "name": "python3"
  },
  "language_info": {
   "codemirror_mode": {
    "name": "ipython",
    "version": 3
   },
   "file_extension": ".py",
   "mimetype": "text/x-python",
   "name": "python",
   "nbconvert_exporter": "python",
   "pygments_lexer": "ipython3",
   "version": "3.8.3"
  }
 },
 "nbformat": 4,
 "nbformat_minor": 4
}
