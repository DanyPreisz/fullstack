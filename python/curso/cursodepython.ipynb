{
  "cells": [
    {
      "cell_type": "markdown",
      "metadata": {
        "id": "1ZQV_0F7XRp4"
      },
      "source": [
        "### ¿Qué es Python?\n",
        "\n",
        "Python es un lenguaje de programación simple, de propósito general, dinámico, de alto nivel, interactivo, interpretado, y orientado a objetos. Es uno de los más populares en el mundo.\n",
        "Guido van Rossum desarrolló Python en el National Research Institute de Países Bajos en los 1980s. Su primera versión fue presentada oficialmente en 1991. Es usado por millones de websites, apps y juegos."
      ]
    },
    {
      "cell_type": "markdown",
      "metadata": {
        "id": "k57BayM5XRqI"
      },
      "source": [
        "Los elementos básicos son:\n",
        "\n",
        "**Literales:** son formas simples de inicializar objetos directamente en memoria. Ejemplos: 1, 'abc', 2.0, True.\n",
        "\n",
        "**Operadores:** son los operadores algebraicos =, +, /, %, **, =, ==.\n",
        "\n",
        "Podemos combinar literales y operadores en nuestros algoritmos. Si la instrucción no tiene sentido, el lenguaje nos devolverá el tipo de error que tengamos."
      ]
    },
    {
      "cell_type": "markdown",
      "metadata": {
        "id": "PtTKEPrrXRqN"
      },
      "source": [
        "**Objetos:**\n",
        "Son la abstracción más alta de cualquier lenguaje de programación. Los objetos se encuentran en memoria y podemos referenciarlas con algún tipo de variable.\n",
        "\n",
        "**Tipos:**\n",
        "Los objetos pueden ser enteros, flotantes, booleanos e incluso pueden ser objetos más complejos como el modelo de un humano con todos sus características y atributos.\n",
        "\n",
        "**Escalares y no escalares:**\n",
        "Los **escalares** son datos que podemos subdividir en piezas fundamentales. Pueden ser enteros, flotantes, etc. Los **no escalares** son los datos que no podemos subdividir."
      ]
    },
    {
      "cell_type": "markdown",
      "metadata": {
        "id": "Kuf1ZYCZXRqT"
      },
      "source": [
        "### Variables\n",
        "Son nombres que se vinculan con un valor en memoria, y la forma en la que los vinculamos es a través del operador de asignación (=), y para comparar su valor utilizamos 2 veces el operador de asignación (==). La forma correcta de nombrar nuestras variables es darles un nombre descriptivo."
      ]
    },
    {
      "cell_type": "code",
      "execution_count": null,
      "metadata": {
        "id": "xCr7FzdtXRqX"
      },
      "outputs": [],
      "source": [
        "# Tenemos unas variables que no entendemos que representan\n",
        "a = 2\n",
        "x = 4\n",
        "z = (a * x) / 2\n",
        "\n",
        "# Y las cambiamos por unas mas descriptivas\n",
        "base = 2\n",
        "altura = 4\n",
        "area = (base * altura) / 2"
      ]
    },
    {
      "cell_type": "markdown",
      "metadata": {
        "id": "rygllFcxXRqe"
      },
      "source": [
        "Podemos reasignar valores a nuestras variables."
      ]
    },
    {
      "cell_type": "code",
      "execution_count": null,
      "metadata": {
        "id": "3vHt9mi3XRqf",
        "outputId": "4d3298a8-1031-4764-e51b-3badf8305bab"
      },
      "outputs": [
        {
          "name": "stdout",
          "output_type": "stream",
          "text": [
            "Hello, world\n",
            "3\n"
          ]
        }
      ],
      "source": [
        "# A my_var le asignamos un valor\n",
        "my_var = 'Hello, world'\n",
        "print(my_var)\n",
        "\n",
        "# Luego reasignamos otro valor\n",
        "my_var = 3\n",
        "print(my_var)"
      ]
    },
    {
      "cell_type": "code",
      "execution_count": null,
      "metadata": {
        "id": "yZYcvHLaXRql",
        "outputId": "d5a2d058-795b-4935-94b9-8135331980f8"
      },
      "outputs": [
        {
          "name": "stdout",
          "output_type": "stream",
          "text": [
            "Curso profesional de Python\n"
          ]
        }
      ],
      "source": [
        "TITULO_CURSO = 'Curso profesional de Python'\n",
        "\n",
        "print(TITULO_CURSO)"
      ]
    },
    {
      "cell_type": "code",
      "execution_count": null,
      "metadata": {
        "id": "txycAE7oXRqn",
        "outputId": "1a4d753b-49a1-4564-c510-13ea8eb916fc"
      },
      "outputs": [
        {
          "name": "stdout",
          "output_type": "stream",
          "text": [
            "Eduardo\n",
            "García\n",
            "Mr.\n"
          ]
        }
      ],
      "source": [
        "nombre, apellido, titulo = 'Eduardo', 'García', 'Mr.'\n",
        "\n",
        "print(nombre)\n",
        "print(apellido)\n",
        "print(titulo)"
      ]
    },
    {
      "cell_type": "code",
      "execution_count": null,
      "metadata": {
        "id": "h0lhnFXiXRqq",
        "outputId": "c821cb3c-1767-45de-92a6-d96600eab61a"
      },
      "outputs": [
        {
          "name": "stdout",
          "output_type": "stream",
          "text": [
            "Curso profesional de Python\n",
            "Eduardo Ismael\n",
            "Te encuentras\n",
            "en el curso: Profesional de Python.\n",
            "\n",
            "3\n",
            "-3.14\n",
            "False\n"
          ]
        }
      ],
      "source": [
        "# String\n",
        "titulo_curso = 'Curso profesional de Python'\n",
        "print(titulo_curso)\n",
        "\n",
        "nombre_completo = \"Eduardo Ismael\"\n",
        "print(nombre_completo)\n",
        "\n",
        "mensaje = '''Te encuentras\n",
        "en el curso: Profesional de Python.\n",
        "'''\n",
        "\n",
        "print(mensaje)\n",
        "\n",
        "# Int\n",
        "# Al divir con / Obtenemos un tipo de dato flotante\n",
        "# Al divir con // Obtenemos un tipo de dato entero\n",
        "numero_uno = 10 // 3\n",
        "print(numero_uno)\n",
        "\n",
        "# Float\n",
        "numero_dos = -3.14\n",
        "print(numero_dos)\n",
        "\n",
        "# Bool\n",
        "# True - False\n",
        "valor = False\n",
        "print(valor)"
      ]
    },
    {
      "cell_type": "markdown",
      "metadata": {
        "scrolled": true,
        "id": "LIj4yPLMXRqw"
      },
      "source": [
        "**Type:** se usa para ver los tipos de datos que contienen nuestros objetos (variables)."
      ]
    },
    {
      "cell_type": "code",
      "execution_count": null,
      "metadata": {
        "id": "0lIQRdtYXRqx",
        "outputId": "bb9a810d-2296-4bba-aaf1-fb96d23e0fa6"
      },
      "outputs": [
        {
          "name": "stdout",
          "output_type": "stream",
          "text": [
            "<class 'str'>\n",
            "<class 'int'>\n",
            "<class 'float'>\n",
            "<class 'bool'>\n"
          ]
        }
      ],
      "source": [
        "valor = \"Eduardo\"\n",
        "print(type(valor))\n",
        "\n",
        "valor = 2\n",
        "print(type(valor))\n",
        "\n",
        "valor = 3.1\n",
        "print(type(valor))\n",
        "\n",
        "valor = True\n",
        "print(type(valor))"
      ]
    },
    {
      "cell_type": "code",
      "execution_count": null,
      "metadata": {
        "id": "ijuQoL9eXRq0",
        "outputId": "c8e9258c-66c9-40f2-e67d-991134a01f1e"
      },
      "outputs": [
        {
          "data": {
            "text/plain": [
              "float"
            ]
          },
          "execution_count": 17,
          "metadata": {},
          "output_type": "execute_result"
        }
      ],
      "source": [
        "my_float = 1.0\n",
        "type(my_float)"
      ]
    },
    {
      "cell_type": "code",
      "execution_count": null,
      "metadata": {
        "id": "_Ot6y3HJXRq3",
        "outputId": "1d21e79f-c7fd-470e-d204-02dcce48ad02"
      },
      "outputs": [
        {
          "data": {
            "text/plain": [
              "NoneType"
            ]
          },
          "execution_count": 19,
          "metadata": {},
          "output_type": "execute_result"
        }
      ],
      "source": [
        "my_none = None\n",
        "type(my_none)"
      ]
    },
    {
      "cell_type": "code",
      "execution_count": null,
      "metadata": {
        "id": "9eYqF_1yXRq5",
        "outputId": "3f991de0-0a33-41d4-a615-7e7160ed1c4d"
      },
      "outputs": [
        {
          "data": {
            "text/plain": [
              "bool"
            ]
          },
          "execution_count": 18,
          "metadata": {},
          "output_type": "execute_result"
        }
      ],
      "source": [
        "my_bool = False\n",
        "type(my_bool)"
      ]
    },
    {
      "cell_type": "markdown",
      "metadata": {
        "id": "aJmgPjbXXRq7"
      },
      "source": [
        "**Identificadores:**\n",
        "\n",
        "Son nombres utilizados para identificar variables, funciones, clases y otros objetos.\n",
        "\n",
        "Deben seguir ciertas reglas:\n",
        "\n",
        "Deben comenzar con una letra (a-z, A-Z) o un guión bajo (_).\n",
        "Los caracteres subsiguientes pueden ser letras, números o guiones bajos.\n",
        "Los identificadores son sensibles a mayúsculas y minúsculas, \"miVariable\" y \"mivariable\" serían identificadores diferentes.\n",
        "Ejemplos: mi_variable, _variable_contador, nombreDeClase, funcion_principal."
      ]
    },
    {
      "cell_type": "markdown",
      "metadata": {
        "id": "nwvQMAk1XRq9"
      },
      "source": [
        "**Palabras clave (Keywords) o Palabras reservadas:**\n",
        "Son palabras que tienen un significado especial en Python y se utilizan para definir la estructura y la lógica del código. Son objetos dentro del lenguaje que ya tienen alguna función o valor asignado. Estas palabras no pueden ser utilizadas como identificadores, ya que Python las utiliza con un propósito específico. No pueden usarse para nombrar variables o funciones."
      ]
    },
    {
      "cell_type": "markdown",
      "metadata": {
        "id": "tCTrxun8XRq-"
      },
      "source": [
        "<img src=\"https://github.com/DanyPreisz/introduccion-pensamiento-computacional/raw/master/readme_img/reserved-words-python.png\"> </img>"
      ]
    },
    {
      "cell_type": "markdown",
      "metadata": {
        "id": "D7CxddNWXRq_"
      },
      "source": [
        "### Instrucciones y expresiones\n",
        "Los términos **\"instrucción\" (statement)** y **\"expresión\"** se utilizan para describir diferentes tipos de construcciones de código.\n",
        "Las instrucciones son acciones que realiza el código, mientras que las expresiones son combinaciones de valores y operaciones que se evalúan para producir un valor. Es importante entender esta diferencia, ya que afecta cómo se estructura y organiza el código en Python."
      ]
    },
    {
      "cell_type": "markdown",
      "metadata": {
        "id": "Vb_v0siiXRrB"
      },
      "source": [
        "### Instrucción (Statement):\n",
        "Una instrucción o statement es una unidad de código que realiza una acción o una tarea. Las instrucciones no tienen un valor de retorno explícito. Una instrucción es una acción que se lleva a cabo, pero no produce un valor que pueda ser utilizado luego. Son instrucciones la asignación de valor a una variable, la impresión en la consola o la llamada a una función\n",
        "\n",
        "Ejemplos de instrucciones en Python:"
      ]
    },
    {
      "cell_type": "markdown",
      "metadata": {
        "id": "P73Vzc05XRrC"
      },
      "source": [
        "**if** condición:\n",
        "    # bloque de código para ejecutar si la condición es verdadera\n",
        "\n",
        "**for** elemento in lista:\n",
        "    # bloque de código para iterar sobre la lista\n",
        "\n",
        "**while** condición:\n",
        "    # bloque de código para ejecutar mientras la condición sea verdadera\n",
        "\n",
        "**def** función():\n",
        "    # definición de una función"
      ]
    },
    {
      "cell_type": "markdown",
      "metadata": {
        "id": "dG59JIwDXRrE"
      },
      "source": [
        "### \"Hola Mundo\" en Python ###\n",
        "Podemos hacerlo con un solo statement:"
      ]
    },
    {
      "cell_type": "code",
      "execution_count": null,
      "metadata": {
        "id": "xrppwQG6XRrG",
        "outputId": "cbda9e0f-7f48-460f-8062-c381ab8d0a3f"
      },
      "outputs": [
        {
          "name": "stdout",
          "output_type": "stream",
          "text": [
            "Hola mundo\n"
          ]
        },
        {
          "data": {
            "text/plain": [
              "'\\nEste es un comentario\\nque posee saltos\\nde línea.\\n'"
            ]
          },
          "execution_count": 47,
          "metadata": {},
          "output_type": "execute_result"
        }
      ],
      "source": [
        "# Esta línea se encuentra comentada.\n",
        "print('Hola mundo')\n",
        "\n",
        "\"\"\"\n",
        "Este es un comentario\n",
        "que posee saltos\n",
        "de línea.\n",
        "\"\"\""
      ]
    },
    {
      "cell_type": "markdown",
      "metadata": {
        "id": "RJokUPctXRrI"
      },
      "source": [
        "### Expresión:\n",
        "Una expresión es una combinación de valores, variables y operadores que se evalúan para producir un resultado. Las expresiones tienen un valor de retorno y pueden utilizarse en otras expresiones o asignarse a variables.\n",
        "Una combinación de \"objeto + operador + objeto\" es una expresión."
      ]
    },
    {
      "cell_type": "code",
      "execution_count": null,
      "metadata": {
        "id": "UKsuxewdXRrJ",
        "outputId": "9a952d85-80f2-4158-d953-0ee4fa98ec4a"
      },
      "outputs": [
        {
          "data": {
            "text/plain": [
              "16"
            ]
          },
          "execution_count": 10,
          "metadata": {},
          "output_type": "execute_result"
        }
      ],
      "source": [
        "a = 3 + 5  # Esta es una expresión da resultado 8\n",
        "b = a * 2  # Esta es una expresión que utiliza el valor\n",
        "           # de una variable y lo multiplica por 2\n",
        "b"
      ]
    },
    {
      "cell_type": "code",
      "execution_count": null,
      "metadata": {
        "id": "hQBHg0SHXRrK",
        "outputId": "849559ef-58c3-41cc-8528-edd7657172aa"
      },
      "outputs": [
        {
          "data": {
            "text/plain": [
              "'EstoyProgramando!'"
            ]
          },
          "execution_count": 11,
          "metadata": {},
          "output_type": "execute_result"
        }
      ],
      "source": [
        "'Estoy' + 'Programando!'      # Con esta expresión obtenemos'EstoyProgramando!'"
      ]
    },
    {
      "cell_type": "markdown",
      "metadata": {
        "id": "gibBPpQYXRrM"
      },
      "source": [
        "**Cadenas**\n",
        "\n",
        "Un objeto de tipo \"string\" es una secuencia de caracteres. Es una colección ordenada de caracteres que pueden incluir letras, números, símbolos y espacios. Los strings se crean utilizando comillas simples (') o comillas dobles (\"). Los strings son inmutables, una vez que se crea un string, no se puede modificar directamente. Pero se pueden realizar operaciones en ellos, como concatenación (unir strings), extracción de subcadenas y más. Cuando utilizamos el operador multiplicar (*)  multiplicamos la cadena por el numero de veces que deseamos, y con el operador suma (+) concatenamos varias cadenas."
      ]
    },
    {
      "cell_type": "code",
      "execution_count": null,
      "metadata": {
        "id": "nZRm6JLkXRrN",
        "outputId": "7a039ca1-1a29-4f50-d7c4-967255a5d84b"
      },
      "outputs": [
        {
          "data": {
            "text/plain": [
              "'123123123'"
            ]
          },
          "execution_count": 24,
          "metadata": {},
          "output_type": "execute_result"
        }
      ],
      "source": [
        "'123' * 3               # Con el operador *"
      ]
    },
    {
      "cell_type": "code",
      "execution_count": null,
      "metadata": {
        "id": "wRrXr6fTXRrP",
        "outputId": "5b7497b5-a253-4c8f-9905-0efa8c1715ec"
      },
      "outputs": [
        {
          "data": {
            "text/plain": [
              "'123456'"
            ]
          },
          "execution_count": 25,
          "metadata": {},
          "output_type": "execute_result"
        }
      ],
      "source": [
        "'123' + '456'           # Y el operador +"
      ]
    },
    {
      "cell_type": "code",
      "execution_count": null,
      "metadata": {
        "id": "0JlsjQwYXRrQ",
        "outputId": "bd7f9b11-93f1-487f-8e85-4fefa8424d6a"
      },
      "outputs": [
        {
          "data": {
            "text/plain": [
              "'Hip Hip Hip hurra'"
            ]
          },
          "execution_count": 26,
          "metadata": {},
          "output_type": "execute_result"
        }
      ],
      "source": [
        "('Hip ' * 3) + 'hurra'  # También podemos combinar operadores"
      ]
    },
    {
      "cell_type": "code",
      "execution_count": null,
      "metadata": {
        "id": "gyxTHV6ZXRrS",
        "outputId": "6df489e2-3a48-4abd-b7d2-542e343d44f8"
      },
      "outputs": [
        {
          "data": {
            "text/plain": [
              "'Hip Hip Hip hurra'"
            ]
          },
          "execution_count": 27,
          "metadata": {},
          "output_type": "execute_result"
        }
      ],
      "source": [
        "f'{\"Hip \" * 3}hurra'    # En Python podemos usar la expresión f para concatenar"
      ]
    },
    {
      "cell_type": "markdown",
      "metadata": {
        "id": "FfYKfu3UXRrT"
      },
      "source": [
        "**Métodos asociados a las cadenas:**\n",
        "\n",
        "**len:** nos indica la longitud de la cadena.\n",
        "\n",
        "**indexing:** para acceder a cada uno de los elementos de la cadena a través de indices.\n",
        "\n",
        "**slicing:** podemos dividir las cadenas en subcadenas."
      ]
    },
    {
      "cell_type": "code",
      "execution_count": null,
      "metadata": {
        "id": "gMz-IGYFXRrU",
        "outputId": "927c752a-11f5-4ebc-a8d2-804c7ff8d97f"
      },
      "outputs": [
        {
          "data": {
            "text/plain": [
              "13"
            ]
          },
          "execution_count": 29,
          "metadata": {},
          "output_type": "execute_result"
        }
      ],
      "source": [
        "my_str = 'Hello, world!'    # Creamos una cadena\n",
        "len(my_str)                 # Consultamos por su longitud"
      ]
    },
    {
      "cell_type": "code",
      "execution_count": null,
      "metadata": {
        "id": "phq9mdZmXRrV",
        "outputId": "84a1ac70-1f35-4664-8c9a-566ceebaace8"
      },
      "outputs": [
        {
          "data": {
            "text/plain": [
              "'llo, world!'"
            ]
          },
          "execution_count": 30,
          "metadata": {},
          "output_type": "execute_result"
        }
      ],
      "source": [
        "my_str[2:]                  # Traemos desde el 3er caracter hasta el final."
      ]
    },
    {
      "cell_type": "code",
      "execution_count": null,
      "metadata": {
        "id": "t4C8q2E1XRrX",
        "outputId": "932d5397-f949-4a26-ffe8-66c15c4edf38"
      },
      "outputs": [
        {
          "data": {
            "text/plain": [
              "'Hel'"
            ]
          },
          "execution_count": 36,
          "metadata": {},
          "output_type": "execute_result"
        }
      ],
      "source": [
        "my_str[:3]                  # Tremos desde el principio hasta el 3ro."
      ]
    },
    {
      "cell_type": "code",
      "execution_count": null,
      "metadata": {
        "id": "wzkv61dRXRrY",
        "outputId": "1dcf0598-e57d-41ae-948b-25ef21c481c8"
      },
      "outputs": [
        {
          "data": {
            "text/plain": [
              "'llo'"
            ]
          },
          "execution_count": 34,
          "metadata": {},
          "output_type": "execute_result"
        }
      ],
      "source": [
        "my_str[2:5]                 # desde el 3er caracter hasta el 5to."
      ]
    },
    {
      "cell_type": "code",
      "execution_count": null,
      "metadata": {
        "id": "PHaSraazXRrZ",
        "outputId": "fb45936a-a71e-47fd-dc87-878ab51cd957"
      },
      "outputs": [
        {
          "data": {
            "text/plain": [
              "'Hlo ol!'"
            ]
          },
          "execution_count": 35,
          "metadata": {},
          "output_type": "execute_result"
        }
      ],
      "source": [
        "my_str[::2]           # desde el principio hasta el final saltando de 2 en 2."
      ]
    },
    {
      "cell_type": "markdown",
      "metadata": {
        "id": "m3uNZYgtXRrb"
      },
      "source": [
        "Los strings también admiten otros métodos integrados para realizar operaciones más avanzadas, como cambiar mayúsculas y minúsculas, buscar subcadenas, reemplazar partes del string y más."
      ]
    },
    {
      "cell_type": "code",
      "execution_count": null,
      "metadata": {
        "id": "JQXXUmjEXRrc",
        "outputId": "264ac2a6-2ba9-42db-d398-1b20ddab6bfb"
      },
      "outputs": [
        {
          "name": "stdout",
          "output_type": "stream",
          "text": [
            "HOLA, ¿CÓMO ESTÁS?\n",
            "7\n",
            "Hola, ¿cómo te encuentras?\n"
          ]
        }
      ],
      "source": [
        "mensaje = \"Hola, ¿cómo estás?\"\n",
        "mayusculas = mensaje.upper()\n",
        "print(mayusculas)  # Salida: \"HOLA, ¿CÓMO ESTÁS?\"\n",
        "\n",
        "busqueda = mensaje.find(\"cómo\")\n",
        "print(busqueda)  # Salida: 7\n",
        "\n",
        "reemplazo = mensaje.replace(\"estás\", \"te encuentras\")\n",
        "print(reemplazo)  # Salida: \"Hola, ¿cómo te encuentras?\""
      ]
    },
    {
      "cell_type": "markdown",
      "metadata": {
        "id": "fGn9HuYBXRr_"
      },
      "source": [
        "**Entradas o inputs**\n",
        "\n",
        "Son una forma de recibir información para que las computadoras logren realizar cómputos.\n",
        "\n",
        "La función input recibe datos del usuario del programa.\n",
        "Input siempre regresa cadenas, por lo que si queremos utilizar otro tipo, tenemos que hacer **type casting**, que consiste en transformar el tipo de dato en otro. Luego de transformar el tipo podemos guardarlo en memoria asignándolo a una variable."
      ]
    },
    {
      "cell_type": "code",
      "execution_count": null,
      "metadata": {
        "id": "91KrZxxfXRsA",
        "outputId": "4c61709c-449e-4ca2-e5c1-f1c25a3c7f4b"
      },
      "outputs": [
        {
          "name": "stdout",
          "output_type": "stream",
          "text": [
            "Cual es tu nombre: Dani\n",
            "Dani\n",
            "Tu nombre es Dani\n",
            "Escribe un numero: 7\n"
          ]
        },
        {
          "data": {
            "text/plain": [
              "str"
            ]
          },
          "execution_count": 40,
          "metadata": {},
          "output_type": "execute_result"
        }
      ],
      "source": [
        "nombre = input('Cual es tu nombre: ')   # Utilizamos input para ingresar un nombre\n",
        "\n",
        "print(nombre) # Vemos que contiene nuestra variable nombre\n",
        "\n",
        "print(f'Tu nombre es {nombre}')   # Imprimimos una cadena concatenando\n",
        "                                  # una oración con nuestra variable.\n",
        "\n",
        "numero = input('Escribe un numero: ') # Utilizamos input para ingresar un numero\n",
        "\n",
        "numero    # Vemos que contiene nuestra variable numero\n",
        "\n",
        "type(numero)    # Vemos el tipo de dato que es numero"
      ]
    },
    {
      "cell_type": "code",
      "execution_count": null,
      "metadata": {
        "id": "w_9V7UJ9XRsC",
        "outputId": "5da804e6-56e1-4622-fa8c-20af8ba2437c"
      },
      "outputs": [
        {
          "name": "stdout",
          "output_type": "stream",
          "text": [
            "Ingresa tu nombre completo: Dani\n",
            "Ingresa tu edad: 48\n",
            "Ingresa tu altura: 1.77\n",
            "¿Autorizas el programa? (si/no)si\n",
            "Dani\n",
            "48\n",
            "1.77\n",
            "True\n"
          ]
        }
      ],
      "source": [
        "nombre_completo = input('Ingresa tu nombre completo: ') # str\n",
        "\n",
        "edad = int(input('Ingresa tu edad: '))\n",
        "\n",
        "altura = float(input('Ingresa tu altura: '))\n",
        "\n",
        "autorizacion = input('¿Autorizas el programa? (si/no)') == 'si'\n",
        "\n",
        "print(nombre_completo)\n",
        "print(edad)\n",
        "print(altura)\n",
        "print(autorizacion)"
      ]
    },
    {
      "cell_type": "code",
      "execution_count": null,
      "metadata": {
        "id": "dzTiie8LXRsE",
        "outputId": "169fe9f9-50de-4ed5-aa95-39653530a9ef"
      },
      "outputs": [
        {
          "name": "stdout",
          "output_type": "stream",
          "text": [
            "Escribe un numero: 8\n"
          ]
        },
        {
          "data": {
            "text/plain": [
              "int"
            ]
          },
          "execution_count": 42,
          "metadata": {},
          "output_type": "execute_result"
        }
      ],
      "source": [
        "numero = int(input('Escribe un numero: '))  # Pero si definimos previamente\n",
        "                                            # el input como int\n",
        "\n",
        "type(numero)    # Nuestra variable numero sera de tipo int"
      ]
    },
    {
      "cell_type": "markdown",
      "metadata": {
        "id": "LUIX1Sn6XRsG"
      },
      "source": [
        "**Programas ramificados**\n",
        "\n",
        "Los programas deben ser capaces de tomar decisiones, test o pruebas, es desde este concepto donde salen las ramificaciones.\n",
        "\n",
        "Los **operadores de comparación** nos devolverán si la comparación es **verdadera (True)** o **falsa (False)**.\n",
        "\n",
        "**Igual (==)**: Lo utilizamos para comparar 2 objetos.\n",
        "\n",
        "**Distinto (!=)**: Verificamos que los objetos sean distintos.\n",
        "\n",
        "**Mayor que (>)**: Comparamos si el primer termino es mayor que el segundo.\n",
        "\n",
        "**Menor que (<)**: Verificamos que el primer termino sea menor que el segundo.\n",
        "\n",
        "**Mayor igual que (>=)**: Verificamos que el primer termino sea mayor igual al segundo.\n",
        "\n",
        "**Menor igual que (<=)**: Verificamos que el primer termino sea menor igual al segundo.\n",
        "\n",
        "Además de los operadores de comparación tenemos los **operadores lógicos and, or, not**."
      ]
    },
    {
      "cell_type": "code",
      "execution_count": null,
      "metadata": {
        "id": "DmJ742FnXRsH",
        "outputId": "a5dbae34-b972-44df-cc1a-f1c67716a27f"
      },
      "outputs": [
        {
          "name": "stdout",
          "output_type": "stream",
          "text": [
            "False\n"
          ]
        }
      ],
      "source": [
        "numero_uno = 20\n",
        "numero_dos = 50\n",
        "\n",
        "\"\"\"\n",
        "    >\n",
        "    <\n",
        "    >=\n",
        "    <=\n",
        "    ==\n",
        "    !=\n",
        "\"\"\"\n",
        "\n",
        "resulto = numero_uno == numero_dos\n",
        "print(resulto)"
      ]
    },
    {
      "cell_type": "markdown",
      "metadata": {
        "id": "EC5zRsw6XRsJ"
      },
      "source": [
        "<img src=\"https://github.com/DanyPreisz/introduccion-pensamiento-computacional/raw/master/readme_img/operador-logico.png\"> </img>"
      ]
    },
    {
      "cell_type": "code",
      "execution_count": null,
      "metadata": {
        "id": "iidYFcMzXRsK",
        "outputId": "f2f7be7c-886f-43f2-b9b0-a9e207d9280d"
      },
      "outputs": [
        {
          "name": "stdout",
          "output_type": "stream",
          "text": [
            "False\n"
          ]
        }
      ],
      "source": [
        "# and, or y not\n",
        "\n",
        "resultado_final = not True\n",
        "print(resultado_final)"
      ]
    },
    {
      "cell_type": "markdown",
      "metadata": {
        "id": "L2TU9-KaXRsM"
      },
      "source": [
        "**Estructuras de control**\n",
        "\n",
        "Se pueden usar estructuras como **if**, **elif** y **else** para ejecutar diferentes bloques de código en función de ciertas condiciones. Las decisiones son una parte esencial de la programación y permiten crear programas que respondan de manera dinámica a diferentes situaciones."
      ]
    },
    {
      "cell_type": "code",
      "execution_count": null,
      "metadata": {
        "id": "mrXS4_nvXRsN",
        "outputId": "7f931a45-da47-406d-81c3-45efa0c4cd61"
      },
      "outputs": [
        {
          "name": "stdout",
          "output_type": "stream",
          "text": [
            "Tienes 18 años.\n"
          ]
        }
      ],
      "source": [
        "edad = 18\n",
        "if edad < 18:\n",
        "    print(\"Eres menor de edad.\")\n",
        "elif edad == 18:\n",
        "    print(\"Tienes 18 años.\")\n",
        "else:\n",
        "    print(\"Eres mayor de edad.\")"
      ]
    },
    {
      "cell_type": "markdown",
      "metadata": {
        "id": "DcJLw_tMXRsP"
      },
      "source": [
        "La **indentación** (espacios en blanco al comienzo de la línea) es fundamental en Python para determinar qué bloques de código están dentro de cada estructura de control. Las declaraciones **if**, **elif** y **else** deben tener la misma cantidad de espacios en blanco al comienzo.\n",
        "\n",
        "Se pueden combinar múltiples condiciones utilizando operadores lógicos **and** y **or**."
      ]
    },
    {
      "cell_type": "code",
      "execution_count": null,
      "metadata": {
        "id": "AbDgRz0iXRsR",
        "outputId": "439814fe-6cd0-4f92-b23a-e9cbaf1c51bf"
      },
      "outputs": [
        {
          "name": "stdout",
          "output_type": "stream",
          "text": [
            "No hace tanto calor y está lloviendo.\n"
          ]
        }
      ],
      "source": [
        "temperatura = 25\n",
        "lluvia = True\n",
        "if temperatura > 30 and not lluvia:\n",
        "    print(\"Hace calor y no está lloviendo.\")\n",
        "elif temperatura > 30 and lluvia:\n",
        "    print(\"Hace calor pero está lloviendo.\")\n",
        "elif temperatura <= 30 and lluvia:\n",
        "    print(\"No hace tanto calor y está lloviendo.\")\n",
        "else:\n",
        "    print(\"No hace tanto calor y no está lloviendo.\")"
      ]
    },
    {
      "cell_type": "markdown",
      "metadata": {
        "id": "bMr0u-NAXRsS"
      },
      "source": [
        "**Bucles**\n",
        "\n",
        "Son estructuras de control que te permiten repetir un bloque de código varias veces.\n",
        "\n",
        "Hay dos tipos principales de bucles en Python: el **bucle for** y el **bucle while**.\n",
        "\n",
        "**Bucle for:**\n",
        "Se utiliza para iterar sobre una secuencia de elementos, como una lista, una cadena de texto, un rango numérico, etc."
      ]
    },
    {
      "cell_type": "code",
      "execution_count": null,
      "metadata": {
        "id": "NpEV55JoXRsU",
        "outputId": "c8d450d0-92a5-4217-e99f-2346ef232ff6"
      },
      "outputs": [
        {
          "name": "stdout",
          "output_type": "stream",
          "text": [
            "manzana\n",
            "banana\n",
            "cereza\n"
          ]
        }
      ],
      "source": [
        "frutas = [\"manzana\", \"banana\", \"cereza\"]\n",
        "for fruta in frutas:\n",
        "    print(fruta)"
      ]
    },
    {
      "cell_type": "markdown",
      "metadata": {
        "id": "w3eXV3F-XRsW"
      },
      "source": [
        "**Bucle while:**\n",
        "\n",
        "Se ejecuta mientras una condición sea verdadera. Se utiliza cuando no sabemos cuántas veces se debe repetir el bloque de código."
      ]
    },
    {
      "cell_type": "code",
      "execution_count": null,
      "metadata": {
        "id": "Ky6xve5sXRsX",
        "outputId": "9d8a03df-c6a2-4676-dd90-94a6c077b998"
      },
      "outputs": [
        {
          "name": "stdout",
          "output_type": "stream",
          "text": [
            "0\n",
            "1\n",
            "2\n",
            "3\n",
            "4\n"
          ]
        }
      ],
      "source": [
        "contador = 0\n",
        "while contador < 5:\n",
        "    print(contador)\n",
        "    contador += 1"
      ]
    },
    {
      "cell_type": "markdown",
      "metadata": {
        "id": "97e0pitlXRsZ"
      },
      "source": [
        "**Control de flujo en bucles:**\n",
        "\n",
        "**break:** Termina inmediatamente el bucle."
      ]
    },
    {
      "cell_type": "code",
      "execution_count": null,
      "metadata": {
        "id": "HGHWrKJMXRsa",
        "outputId": "2cfc2073-aeeb-4b92-9c15-22c53ec7b28e"
      },
      "outputs": [
        {
          "name": "stdout",
          "output_type": "stream",
          "text": [
            "0\n",
            "1\n",
            "2\n",
            "3\n",
            "4\n"
          ]
        }
      ],
      "source": [
        "for numero in range(10):\n",
        "    if numero == 5:\n",
        "        break\n",
        "    print(numero)"
      ]
    },
    {
      "cell_type": "markdown",
      "metadata": {
        "id": "x3z5oZt4XRsc"
      },
      "source": [
        "**continue:** Salta a la siguiente iteración del bucle sin ejecutar el código restante en esa iteración."
      ]
    },
    {
      "cell_type": "code",
      "execution_count": null,
      "metadata": {
        "id": "c1u2J69kXRsd",
        "outputId": "804716e8-80d7-4df3-a0da-27c95894bb57"
      },
      "outputs": [
        {
          "name": "stdout",
          "output_type": "stream",
          "text": [
            "1\n",
            "3\n",
            "5\n",
            "7\n",
            "9\n"
          ]
        }
      ],
      "source": [
        "for numero in range(10):\n",
        "    if numero % 2 == 0:\n",
        "        continue\n",
        "    print(numero)"
      ]
    },
    {
      "cell_type": "markdown",
      "metadata": {
        "id": "nArZzovSXRsf"
      },
      "source": [
        "**else en bucle for:** Se ejecuta después de que el bucle haya terminado sin ser interrumpido por un break."
      ]
    },
    {
      "cell_type": "code",
      "execution_count": null,
      "metadata": {
        "id": "PzmvOztnXRsg",
        "outputId": "48eb29ee-7cd1-42c4-96af-9c23493320e2"
      },
      "outputs": [
        {
          "name": "stdout",
          "output_type": "stream",
          "text": [
            "0\n",
            "1\n",
            "2\n",
            "3\n",
            "4\n",
            "Bucle completado sin break\n"
          ]
        }
      ],
      "source": [
        "for i in range(5):\n",
        "    print(i)\n",
        "else:\n",
        "    print(\"Bucle completado sin break\")"
      ]
    },
    {
      "cell_type": "markdown",
      "metadata": {
        "id": "jigV5jcWXRsh"
      },
      "source": [
        "**Bucles con range():**\n",
        "\n",
        "La **función range()** se utiliza para generar una secuencia de números que se pueden utilizar en un bucle. Por defecto, range() comienza en 0 y se detiene antes del número especificado."
      ]
    },
    {
      "cell_type": "code",
      "execution_count": null,
      "metadata": {
        "id": "gPIL4W0BXRsj",
        "outputId": "839b5ca8-fbd6-44ee-e62b-9ef20d6b07cd"
      },
      "outputs": [
        {
          "name": "stdout",
          "output_type": "stream",
          "text": [
            "0\n",
            "1\n",
            "2\n",
            "3\n",
            "4\n"
          ]
        }
      ],
      "source": [
        "for i in range(5):  # Genera números del 0 al 4\n",
        "    print(i)"
      ]
    },
    {
      "cell_type": "markdown",
      "source": [
        "Utilizar la función **input()** que permite hacer ingresos por teclado, para encontrar números primos y dar la opción al usario de buscar el siguiente."
      ],
      "metadata": {
        "id": "e4b9Kz9OgEOD"
      }
    },
    {
      "cell_type": "code",
      "execution_count": 9,
      "metadata": {
        "colab": {
          "base_uri": "https://localhost:8080/"
        },
        "id": "R-TX7PC-XRsk",
        "outputId": "97af31f9-31b6-4754-87fc-512876338f25"
      },
      "outputs": [
        {
          "output_type": "stream",
          "name": "stdout",
          "text": [
            "1\n",
            "¿Desea encontrar el siguiente número primo?\n",
            "1\n",
            "2\n",
            "¿Desea encontrar el siguiente número primo?\n",
            "1\n",
            "3\n",
            "¿Desea encontrar el siguiente número primo?\n",
            "no\n",
            "Se finaliza el proceso\n"
          ]
        }
      ],
      "source": [
        "n = 1\n",
        "sigue = 1\n",
        "primo = True\n",
        "while (sigue == 1):\n",
        "    for div in range(2, n):\n",
        "        if (n % div == 0):\n",
        "            primo = False\n",
        "            break\n",
        "    if (primo):\n",
        "        print(n)\n",
        "        print('¿Desea encontrar el siguiente número primo?')\n",
        "        if (input() != '1'):\n",
        "            print('Se finaliza el proceso')\n",
        "            break\n",
        "    else:\n",
        "        primo = True\n",
        "    n += 1"
      ]
    },
    {
      "cell_type": "markdown",
      "source": [
        "Crear un ciclo while que encuentre dentro del rango de 100 a 300 el primer número divisible por 3 y además múltiplo de 6."
      ],
      "metadata": {
        "id": "klVzNstIaTVr"
      }
    },
    {
      "cell_type": "code",
      "source": [
        "n = 100\n",
        "while(n<=300):\n",
        "    if (n % 6 == 0):\n",
        "        print('El número es: ', str(n))\n",
        "        break\n",
        "    n += 1"
      ],
      "metadata": {
        "colab": {
          "base_uri": "https://localhost:8080/"
        },
        "id": "chK4ai5RafT_",
        "outputId": "ce83fc66-2ab5-44e2-ce3b-6cfdb7613dab"
      },
      "execution_count": 5,
      "outputs": [
        {
          "output_type": "stream",
          "name": "stdout",
          "text": [
            "El número es:  102\n"
          ]
        }
      ]
    },
    {
      "cell_type": "code",
      "execution_count": null,
      "metadata": {
        "id": "ytNZ1gwTXRsm",
        "outputId": "6c9a0a96-95ef-45b1-8a28-b5c1e0ab4bc6"
      },
      "outputs": [
        {
          "name": "stdout",
          "output_type": "stream",
          "text": [
            "Escoge un numero: 9\n",
            "La raiz cuadrada de 9 es 2.998400000001903\n"
          ]
        }
      ],
      "source": [
        "objetivo = int(input('Escoge un numero: '))\n",
        "\n",
        "epsilon = 0.01\n",
        "paso = epsilon**2\n",
        "respuesta = 0\n",
        "\n",
        "while abs(respuesta**2 - objetivo) >= epsilon and respuesta <= objetivo:\n",
        "    respuesta += paso\n",
        "\n",
        "if abs(respuesta**2 - objetivo) >= epsilon:\n",
        "    print(f'No se encontró la raiz cuadrada de {objetivo}')\n",
        "else:\n",
        "    print(f'La raiz cuadrada de {objetivo} es {respuesta}')"
      ]
    },
    {
      "cell_type": "markdown",
      "metadata": {
        "id": "kTAWtgVVXRso"
      },
      "source": [
        "listas"
      ]
    },
    {
      "cell_type": "markdown",
      "metadata": {
        "id": "-cc0IiKuXRsp"
      },
      "source": [
        "matrices"
      ]
    },
    {
      "cell_type": "markdown",
      "metadata": {
        "id": "nNwi79sRXRsr"
      },
      "source": [
        "funciones"
      ]
    },
    {
      "cell_type": "markdown",
      "metadata": {
        "id": "0mO-aAOqXRss"
      },
      "source": [
        "diccionario"
      ]
    },
    {
      "cell_type": "code",
      "execution_count": null,
      "metadata": {
        "id": "9e7hN1LPXRst",
        "outputId": "26586750-1d21-4ef9-f386-ff215f728148"
      },
      "outputs": [
        {
          "name": "stdout",
          "output_type": "stream",
          "text": [
            "1000\n"
          ]
        }
      ],
      "source": [
        "def Exponente(numero, exponente):\n",
        "    \"\"\"\n",
        "    Esta función devuelve el resultado de elevar el parámetro \"numero\" al parámetro \"exponente\"\n",
        "    Recibe dos argumentos:\n",
        "        numero: El número base en la operación exponencial\n",
        "        exponente: El número exponente en la operación exponencial\n",
        "    Ej:\n",
        "        Exponente(10,3) debe retornar 1000\n",
        "    \"\"\"\n",
        "    return numero**exponente\n",
        "\n",
        "print(Exponente(10, 3))"
      ]
    },
    {
      "cell_type": "code",
      "execution_count": null,
      "metadata": {
        "id": "1FFu-U12XRsv",
        "outputId": "7f30cb27-08e4-4005-e086-69607db23644"
      },
      "outputs": [
        {
          "name": "stdout",
          "output_type": "stream",
          "text": [
            "24\n",
            "None\n",
            "1\n"
          ]
        }
      ],
      "source": [
        "def Factorial(numero):\n",
        "    \"\"\"\n",
        "    Esta función devuelve el factorial del número pasado como parámetro.\n",
        "    En caso de que no sea de tipo entero y/o sea menor que 0, debe retornar nulo.\n",
        "    Recibe un argumento:\n",
        "        numero: Será el número con el que se calcule el factorial\n",
        "    Ej:\n",
        "        Factorial(4) debe retornar 24\n",
        "        Factorial(-2) debe retornar nulo\n",
        "        Factorial(0) debe retornar 1\n",
        "    \"\"\"\n",
        "    # Para los negativos:\n",
        "    if numero < 0:\n",
        "        return None\n",
        "    if numero == 0:\n",
        "        return 1\n",
        "\n",
        "    return numero * Factorial(numero - 1)\n",
        "\n",
        "print(Factorial(4))\n",
        "print(Factorial(-2))\n",
        "print(Factorial(0))"
      ]
    },
    {
      "cell_type": "code",
      "execution_count": null,
      "metadata": {
        "id": "xWRFmJxFXRsw",
        "outputId": "04eaee32-e639-4bd0-d0a6-c48298549ae4"
      },
      "outputs": [
        {
          "name": "stdout",
          "output_type": "stream",
          "text": [
            "[6, 12, 18, 24, 30]\n",
            "[]\n",
            "[7, 14, 21, 28, 35, 42, 49]\n",
            "[6, 12, 18, 24, 30]\n",
            "[]\n",
            "[7, 14, 21, 28, 35, 42, 49]\n"
          ]
        }
      ],
      "source": [
        "def ListaDivisibles(numero, tope):\n",
        "    \"\"\"\n",
        "    Esta función devuelve una lista ordenada de menor a mayor con los números divisibles\n",
        "    por el parámetro número entre uno (1) y el valor del parámetro \"tope\"\n",
        "    Recibe dos argumentos:\n",
        "        numero: Numero entero divisor\n",
        "        tope: Máximo valor a evaluar a partir de uno (1)\n",
        "    Ej:\n",
        "        ListaDivisibles(6,30) debe retornar [6,12,18,24,30]\n",
        "        ListaDivisibles(10,5) debe retornar []\n",
        "        ListaDivisibles(7,50) debe retornar [7,14,21,28,35,42,49]\n",
        "    \"\"\"\n",
        "    newArr = []\n",
        "    multiplicador = 1\n",
        "    numeroActual = numero * multiplicador\n",
        "    while numeroActual <= tope:\n",
        "        # print(numeroActual)\n",
        "        newArr.append(numeroActual)\n",
        "        multiplicador += 1\n",
        "        numeroActual = numero * multiplicador\n",
        "    return newArr\n",
        "\n",
        "\n",
        "print(ListaDivisibles(6, 30))\n",
        "print(ListaDivisibles(10, 5))\n",
        "print(ListaDivisibles(7, 50))\n",
        "\n",
        "\n",
        "def ListaDivisibles(numero, tope):\n",
        "    # Inicializamos una lista vacía para almacenar los números divisibles\n",
        "    lista_divisibles = []\n",
        "\n",
        "    # Iteramos desde 1 hasta el valor del parámetro \"tope\"\n",
        "    for i in range(1, tope + 1):\n",
        "        # Si el número actual (i) es divisible por el valor del parámetro \"numero\",\n",
        "        # lo añadimos a la lista de números divisibles\n",
        "        if i % numero == 0:\n",
        "            lista_divisibles.append(i)\n",
        "\n",
        "    return lista_divisibles\n",
        "\n",
        "print(ListaDivisibles(6, 30))\n",
        "print(ListaDivisibles(10, 5))\n",
        "print(ListaDivisibles(7, 50))"
      ]
    },
    {
      "cell_type": "code",
      "execution_count": null,
      "metadata": {
        "id": "JGSfas-XXRsy",
        "outputId": "fcdf1263-b4e6-4485-ab71-99f8d3220a04"
      },
      "outputs": [
        {
          "name": "stdout",
          "output_type": "stream",
          "text": [
            "[1, 2, 3, 4]\n",
            "None\n",
            "[1, 2, 3, 4]\n",
            "[1, 2, 'a', 'b', 10]\n"
          ]
        }
      ],
      "source": [
        "def ListaDeListas(lista):\n",
        "    \"\"\"\n",
        "    Esta función recibe una lista, que puede contener elementos que a su vez sean listas y\n",
        "    devuelve esos elementos por separado en una lista única.\n",
        "    En caso de que el parámetro no sea de tipo lista, debe retornar nulo.\n",
        "    Recibe un argumento:\n",
        "        lista: La lista que puede contener otras listas y se convierte a una\n",
        "        lista de elementos únicos o no iterables.\n",
        "    Ej:\n",
        "        ListaDeListas([1,2,['a','b'],[10]]) debe retornar [1,2,'a','b',10]\n",
        "        ListaDeListas(108) debe retornar el valor nulo.\n",
        "        ListaDeListas([[1,2,[3]],[4]]) debe retornar [1,2,3,4]\n",
        "    \"\"\"\n",
        "    # Tu código aca:\n",
        "    if not (type(lista) is list):\n",
        "        return None\n",
        "    stack = lista.copy()\n",
        "    resultado = []\n",
        "    while len(stack) > 0:\n",
        "        current = stack.pop(0)\n",
        "        if isinstance(current, int) or isinstance(current, str):\n",
        "            resultado.append(current)\n",
        "\n",
        "        if isinstance(current, list):\n",
        "            for i in range(len(current) - 1, -1, -1):\n",
        "                stack.insert(0, current[i])\n",
        "\n",
        "        if len(stack) == 0:\n",
        "            return resultado\n",
        "\n",
        "\n",
        "print(ListaDeListas([[1, 2, [3]], [4]]))\n",
        "print(ListaDeListas(108))\n",
        "print(ListaDeListas([[1, 2, [3]], [4]]))\n",
        "\n",
        "\n",
        "\n",
        "def ListaDeListas(lista):\n",
        "    stack = lista.copy()\n",
        "    resultado = []\n",
        "    while len(stack) > 0:\n",
        "        current = stack.pop(0)\n",
        "        if isinstance(current, int) or isinstance(current, str):\n",
        "            resultado.append(current)\n",
        "\n",
        "        if isinstance(current, list):\n",
        "            for i in range(len(current) - 1, -1, -1):\n",
        "                stack.insert(0, current[i])\n",
        "\n",
        "        if len(stack) == 0:\n",
        "            return resultado\n",
        "\n",
        "\n",
        "# print(Lista([1, 2, 3, \"a\", [5, 6, 7, [8, 9]]]))\n",
        "print(ListaDeListas([1, 2, [\"a\", \"b\"], [10]]))"
      ]
    },
    {
      "cell_type": "markdown",
      "metadata": {
        "id": "u0adaxhjXRs1"
      },
      "source": [
        "En matemáticas, la palabra capicúa (del catalán cap i cua, 'cabeza y cola') se refiere a cualquier número que se lee igual de izquierda a derecha que de derecha a izquierda. Se denominan también números palíndromos. Esta función devuelve el valor booleano True si el número es capicúa, de lo contrario devuelve el valor booleano False. En caso de que el parámetro no sea de tipo entero, debe retornar nulo.\n",
        "Recibe un argumento:\n",
        "numero: Será el número sobre el que se evaluará si es capicúa o no lo es.\n",
        "\n",
        "Ej:        \n",
        "        NumeroCapicua(787) debe retornar True        \n",
        "        NumeroCapicua(108) debe retornar False"
      ]
    },
    {
      "cell_type": "code",
      "execution_count": null,
      "metadata": {
        "id": "S9G65ZV5XRs3"
      },
      "outputs": [],
      "source": [
        "def NumeroCapicua(numero):\n",
        "    if not isininstance(numero,int)\n"
      ]
    },
    {
      "cell_type": "code",
      "execution_count": null,
      "metadata": {
        "id": "SGSE9XxVXRs5",
        "outputId": "d3a0c62c-a5b0-47ab-c405-204551c574de"
      },
      "outputs": [
        {
          "name": "stdout",
          "output_type": "stream",
          "text": [
            "{'clave1': ['a', 'a', 'a'], 'clave2': ['auto', 'auto', 'auto'], 'clave3': [1, 1, 1]}\n"
          ]
        }
      ],
      "source": [
        "def OrdenarDiccionario(diccionario_par, clave, descendente=True):\n",
        "    \"\"\"\n",
        "    Esta función recibe como parámetro un diccionario, cuyas listas de valores tienen el mismo\n",
        "    tamaño y sus elementos enésimos están asociados. Y otros dos parámetros que indican\n",
        "    la clave por la cual debe ordenarse y si es descendente o ascendente.\n",
        "    La función debe devolver el diccionario ordenado, teniendo en cuenta de no perder la\n",
        "    relación entre los elementos enésimos.\n",
        "    Recibe tres argumentos:\n",
        "        diccionario:    Diccionario a ordenar.\n",
        "        clave:          Clave del diccionario recibido, por la cual ordenar.\n",
        "        descendente:    Un valor booleano, que al ser verdadero indica ordenamiento ascendente y\n",
        "                        descendente si es falso.\n",
        "                        Debe tratarse de un parámetro por defecto en True.\n",
        "    Si el parámetro diccionario no es un tipo de dato diccionario ó el parámetro clave no\n",
        "    se encuentra dentro de las claves del diccionario, debe devolver nulo.\n",
        "    Ej:\n",
        "        dicc = {'clave1':['c','a','b'],\n",
        "                'clave2':['casa','auto','barco'],\n",
        "                'clave3':[1,2,3]}\n",
        "        OrdenarDiccionario(dicc, 'clave1')          debe retornar {'clave1':['a','b','c'],\n",
        "                                                                'clave2':['auto','barco','casa'],\n",
        "                                                                'clave3':[2,3,1]}\n",
        "        OrdenarDiccionario(dicc, 'clave3', False)   debe retornar {'clave1':['b','a','c'],\n",
        "                                                                'clave2':['barco','auto','casa'],\n",
        "                                                                'clave3':[3,2,1]}\n",
        "    \"\"\"\n",
        "    # early return\n",
        "    if not (type(diccionario_par) is dict):\n",
        "        return None\n",
        "    if not (clave in diccionario_par.keys()):\n",
        "        return None\n",
        "\n",
        "    # verificamos si las claves poseen al menos un valor:\n",
        "    cantidadValores = 0\n",
        "    newArr = []\n",
        "    newArrSorted = []\n",
        "\n",
        "    res = {}\n",
        "\n",
        "    if len(diccionario_par[list(diccionario_par.keys())[0]]) > 0:\n",
        "        cantidadValores = len(diccionario_par[list(diccionario_par.keys())[0]])\n",
        "        # convertimos el diccionario de listas, a una lista de diccionarios:\n",
        "        for i in range(0, cantidadValores):\n",
        "            newObj = {}\n",
        "            for key in diccionario_par:\n",
        "                newObj[key] = diccionario_par[key][i]\n",
        "                newArr.append(newObj)\n",
        "        # ordenamos\n",
        "        newArrSorted = sorted(newArr, key=lambda d: d[clave], reverse=descendente)\n",
        "        # print(newArrSorted)\n",
        "        # convertimos la lista de diccionarios, en un diccionario de listas:\n",
        "        for key in diccionario_par:\n",
        "            newArr2 = []\n",
        "            for i in range(0, cantidadValores):\n",
        "                newArr2.append(newArrSorted[i][key])\n",
        "                res[key] = newArr2\n",
        "    # si no tienen valores devolvemos el mismo diccionario:\n",
        "    else:\n",
        "        return diccionario_par\n",
        "\n",
        "    return res\n",
        "\n",
        "\n",
        "dicc = {\n",
        "    \"clave1\": [\"c\", \"a\", \"b\"],\n",
        "    \"clave2\": [\"casa\", \"auto\", \"barco\"],\n",
        "    \"clave3\": [3, 1, 2],\n",
        "}\n",
        "OrdenarDiccionario(dicc, \"clave3\", False)\n",
        "print(OrdenarDiccionario(dicc, \"clave3\", False))\n",
        "\n",
        "# dicc = {\n",
        "#     \"clave1\": [\"c\", \"a\", \"b\"],\n",
        "#     \"clave2\": [\"casa\", \"auto\", \"barco\"],\n",
        "#     \"clave3\": [1, 2, 3],\n",
        "# }\n",
        "# print(OrdenarDiccionario(dicc, \"clave3\", False))\n",
        "# # print(OrdenarDiccionario(dicc, \"clave3\", False))"
      ]
    },
    {
      "cell_type": "markdown",
      "metadata": {
        "id": "lvy9I7c5XRs9"
      },
      "source": [
        "Crear una función capaz de convertir números enteros de base 10 a base 2. Debe recibir como parámetro el número a convertir.\n",
        "Consideraciones: Tratar de resolverlo sin usar la función format(nro,\"b\")"
      ]
    },
    {
      "cell_type": "code",
      "execution_count": 2,
      "metadata": {
        "id": "Cavcy-EcXRs_"
      },
      "outputs": [],
      "source": [
        "## Ejercicio conversion a numero binario:\n",
        "def aBinario(numero):\n",
        "\n",
        "    if numero < 0:\n",
        "        print('Debe ingresar un número mayor que cero')\n",
        "        return None\n",
        "    if numero == 0:\n",
        "        return numero\n",
        "    if type(numero) != int:\n",
        "        print('Debe ingresar un número entero')\n",
        "        return None\n",
        "    else:\n",
        "        ''' Creamos una lista vacia para ir guardando los valores '''\n",
        "        lista_binaria = []\n",
        "        ''' Definimos el primer binario del numero ingresado '''\n",
        "        modulo = numero%2\n",
        "        lista_binaria.append(modulo)\n",
        "        ''' Definimos una lista vacia para los cocientes '''\n",
        "        lista_cocientes = []\n",
        "        cociente = numero // 2\n",
        "        lista_cocientes.append(cociente)\n",
        "\n",
        "        for i in lista_cocientes:\n",
        "            if i == 1:\n",
        "                break\n",
        "            else:\n",
        "                nuevo_cociente = i//2\n",
        "                lista_cocientes.append(nuevo_cociente)\n",
        "        ''' Ahora ya que tenemos la lista de cocientes, vamos a crear la lista binaria '''\n",
        "        for i in lista_cocientes:\n",
        "\n",
        "            if i == 1:\n",
        "                lista_binaria.append(1)\n",
        "            else:\n",
        "                binario = i%2\n",
        "                lista_binaria.append(binario)\n",
        "\n",
        "        ''' Ahora chequeamos que el valor que hayamos introducido coincida con la\n",
        "            lista binaria creada '''\n",
        "        lista_binaria_invertida = lista_binaria[::-1]\n",
        "        contador = len(lista_binaria)\n",
        "        numero_entero = 0\n",
        "        j = 0\n",
        "        for i in lista_binaria_invertida:\n",
        "            longitud_de_lista = len(lista_binaria)\n",
        "            contador -= 1\n",
        "            if i == 1:\n",
        "                j = 2\n",
        "                numero_entero += j**(contador)\n",
        "            else:\n",
        "                j = 0\n",
        "\n",
        "        print('Lista de cocientes: \\n')\n",
        "        print (lista_cocientes)\n",
        "        print('Lista de binarios: \\n')\n",
        "        print (lista_binaria[::-1])\n",
        "        print('Valor calculado a partir de la lista binaria: \\n')\n",
        "        return(numero_entero)"
      ]
    },
    {
      "cell_type": "code",
      "execution_count": 3,
      "metadata": {
        "colab": {
          "base_uri": "https://localhost:8080/"
        },
        "id": "2Ozk-HPbXRtD",
        "outputId": "25eba61e-af00-463b-98d7-90ee64a1b5bb"
      },
      "outputs": [
        {
          "output_type": "stream",
          "name": "stdout",
          "text": [
            "Lista de cocientes: \n",
            "\n",
            "[12, 6, 3, 1]\n",
            "Lista de binarios: \n",
            "\n",
            "[1, 1, 0, 0, 1]\n",
            "Valor calculado a partir de la lista binaria: \n",
            "\n"
          ]
        },
        {
          "output_type": "execute_result",
          "data": {
            "text/plain": [
              "25"
            ]
          },
          "metadata": {},
          "execution_count": 3
        }
      ],
      "source": [
        "aBinario(25)"
      ]
    },
    {
      "cell_type": "markdown",
      "metadata": {
        "id": "FSpCYqUZXRtG"
      },
      "source": [
        "Convertir de decimal a binario las fracciones 1/2, 1/3, 1/4, 1/5, 1/6, 1/7, 1/8, 1/9. Luego analizar los resultados y observar qué particularidad se encuentra en los mismos. Se puede usar Python o una calculadora, lo importante es ver si hay algo que podemos notar..."
      ]
    },
    {
      "cell_type": "markdown",
      "metadata": {
        "id": "4OzKbND_XRtH"
      },
      "source": [
        "Salida esperada:\n",
        "* Fraccion 1 / 2 :  0.5  y En binario:  0.1\n",
        "* Fraccion 1 / 3 :  0.3333333333333333  y En binario:  0.010101010101010101010101\n",
        "* Fraccion 1 / 4 :  0.25  y En binario:  0.01\n",
        "* Fraccion 1 / 5 :  0.2  y En binario:  0.001100110011001100110011\n",
        "* Fraccion 1 / 6 :  0.16666666666666666  y En binario:  0.001010101010101010101010\n",
        "* Fraccion 1 / 7 :  0.14285714285714285  y En binario:  0.001001001001001001001001\n",
        "* Fraccion 1 / 8 :  0.125  y En binario:  0.001\n",
        "* Fraccion 1 / 9 :  0.1111111111111111  y En binario:  0.000111000111000111000111"
      ]
    },
    {
      "cell_type": "code",
      "execution_count": null,
      "metadata": {
        "id": "BkrmtfT9XRtI"
      },
      "outputs": [],
      "source": [
        "## Fracción a Binario\n",
        "def fraccion_a_Binario(fraccion):\n",
        "    if fraccion >= 1:\n",
        "        print('Debe ingresar un valor menor a uno')\n",
        "        return None\n",
        "    if type(fraccion) != float:\n",
        "        print('Debe ingresar un valor flotante')\n",
        "        return None\n",
        "    if fraccion == 0.0:\n",
        "        return 0\n",
        "    if fraccion < 0:\n",
        "        print('El valor no puede ser negativo')\n",
        "        return None\n",
        "    else:\n",
        "        # Creamos la variable binario en formato str\n",
        "        binario = '0.'\n",
        "        # Creamos la lista de multiplicados vacía\n",
        "        lista_multiplicados = []\n",
        "        # Multiplicamos el primer valor por 2 (porque así es el proceso)\n",
        "        valor = fraccion * 2\n",
        "        # Añadimos ese valor a la lista de multiplicados\n",
        "        lista_multiplicados.append(valor)\n",
        "        multiplo = 0\n",
        "        contador = 0\n",
        "        for i in lista_multiplicados:\n",
        "            contador += 1\n",
        "            if i == 1.0:\n",
        "                break\n",
        "            if i > 1.0:\n",
        "                \"\"\"Esta parte lo que hace es, cuando el valor es mayor\n",
        "                    que 1.0, se le resta 1.0. Por ejemplo 1.25- 1.0, y al\n",
        "                    resultado de eso se lo multiplica por 2. Es así como\n",
        "                    armamos la lista de multiplicados. Luego esa lista es\n",
        "                    la que se usa para determinar si va un uno o un cero\"\"\"\n",
        "                multiplo = (i - 1.0)*2\n",
        "                lista_multiplicados.append(multiplo)\n",
        "            else:\n",
        "                multiplo = i * 2\n",
        "                lista_multiplicados.append(multiplo)\n",
        "        print ('Valores mutiplicados')\n",
        "        ''' Si los valores multiplicados son mayores a 1.0 el valor binario es 1\n",
        "            caso contrario, el valor es 0'''\n",
        "        print (lista_multiplicados)\n",
        "\n",
        "        for i in lista_multiplicados:\n",
        "            if i >= 1.0:\n",
        "                binario +=  '1'\n",
        "            if i < 1.0:\n",
        "                binario += '0'\n",
        "        print('\\nValor decimal binario:')\n",
        "        return binario"
      ]
    },
    {
      "cell_type": "code",
      "execution_count": null,
      "metadata": {
        "id": "775mrCWnXRtK",
        "outputId": "1b697328-aebb-411a-ec6c-b3ac04ffca6a"
      },
      "outputs": [
        {
          "name": "stdout",
          "output_type": "stream",
          "text": [
            "Valores mutiplicados\n",
            "[0.6666666666666666, 1.3333333333333333, 0.6666666666666665, 1.333333333333333, 0.6666666666666661, 1.3333333333333321, 0.6666666666666643, 1.3333333333333286, 0.6666666666666572, 1.3333333333333144, 0.6666666666666288, 1.3333333333332575, 0.6666666666665151, 1.3333333333330302, 0.6666666666660603, 1.3333333333321207, 0.6666666666642413, 1.3333333333284827, 0.6666666666569654, 1.3333333333139308, 0.6666666666278616, 1.3333333332557231, 0.6666666665114462, 1.3333333330228925, 0.666666666045785, 1.33333333209157, 0.6666666641831398, 1.3333333283662796, 0.6666666567325592, 1.3333333134651184, 0.6666666269302368, 1.3333332538604736, 0.6666665077209473, 1.3333330154418945, 0.6666660308837891, 1.3333320617675781, 0.6666641235351562, 1.3333282470703125, 0.666656494140625, 1.33331298828125, 0.6666259765625, 1.333251953125, 0.66650390625, 1.3330078125, 0.666015625, 1.33203125, 0.6640625, 1.328125, 0.65625, 1.3125, 0.625, 1.25, 0.5, 1.0]\n",
            "\n",
            "Valor decimal binario:\n"
          ]
        },
        {
          "data": {
            "text/plain": [
              "'0.010101010101010101010101010101010101010101010101010101'"
            ]
          },
          "execution_count": 6,
          "metadata": {},
          "output_type": "execute_result"
        }
      ],
      "source": [
        "fraccion_a_Binario(1/3)"
      ]
    },
    {
      "cell_type": "code",
      "execution_count": null,
      "metadata": {
        "id": "Vo42kiOvXRtM"
      },
      "outputs": [],
      "source": [
        "## Otra forma de hacerlo\n",
        "def NumeroBinarioFraccion(numero):\n",
        "    if type(numero)!= float:\n",
        "        return \"El valor ingresado debe ser entero\"\n",
        "    elif numero<0:\n",
        "        return \"El valor ingresado debe ser positivo\"\n",
        "    else:\n",
        "        binario = '0.'\n",
        "        auxiliar = numero\n",
        "        while auxiliar < 2:\n",
        "            auxiliar= auxiliar*2\n",
        "            if auxiliar < 1:\n",
        "                binario = binario + str(0)\n",
        "            elif auxiliar > 1:\n",
        "                binario =binario + str(1)\n",
        "                auxiliar=auxiliar - 1\n",
        "            else:\n",
        "                binario =binario + str(1)\n",
        "                break\n",
        "        return  binario"
      ]
    },
    {
      "cell_type": "code",
      "execution_count": null,
      "metadata": {
        "id": "Uv-abyuHXRtN",
        "outputId": "79965664-e192-41e9-9d67-39ca7d309008"
      },
      "outputs": [
        {
          "data": {
            "text/plain": [
              "'0.010101010101010101010101010101010101010101010101010101'"
            ]
          },
          "execution_count": 8,
          "metadata": {},
          "output_type": "execute_result"
        }
      ],
      "source": [
        "NumeroBinarioFraccion(1/3)"
      ]
    },
    {
      "cell_type": "markdown",
      "metadata": {
        "id": "dwDn7Qu6XRtP"
      },
      "source": [
        "clases"
      ]
    },
    {
      "cell_type": "markdown",
      "metadata": {
        "id": "UcqAC1w4XRtQ"
      },
      "source": [
        "Gestionar una biblioteca implica crear un sistema que permita realizar tareas como agregar, buscar, prestar y devolver libros, así como llevar un registro de los usuarios y los préstamos."
      ]
    },
    {
      "cell_type": "code",
      "execution_count": null,
      "metadata": {
        "id": "oszz1b3mXRtS",
        "outputId": "0cc32b6a-0762-447b-a28a-e6e59163ab42"
      },
      "outputs": [
        {
          "name": "stdout",
          "output_type": "stream",
          "text": [
            "Se ha prestado el libro: 'Cien años de soledad' de Gabriel García Márquez\n",
            "El libro no se devolvió.\n",
            "Lista de libros en la biblioteca:\n",
            "'Harry Potter y la piedra filosofal' de J.K. Rowling\n",
            "'Cien años de soledad' de Gabriel García Márquez\n",
            "'El Señor de los Anillos' de J.R.R. Tolkien\n"
          ]
        }
      ],
      "source": [
        "## Clase Libro:\n",
        "class Libro:\n",
        "    def __init__(self, titulo, autor, disponible=True):\n",
        "        self.titulo = titulo\n",
        "        self.autor = autor\n",
        "        self.disponible = disponible\n",
        "\n",
        "    def __str__(self):\n",
        "        return f\"'{self.titulo}' de {self.autor}\"\n",
        "\n",
        "## Clase Biblioteca:\n",
        "class Biblioteca:\n",
        "    def __init__(self):\n",
        "        self.libros = []\n",
        "\n",
        "    def agregar_libro(self, libro):\n",
        "        self.libros.append(libro)\n",
        "\n",
        "    def buscar_libro(self, titulo):\n",
        "        for libro in self.libros:\n",
        "            if libro.titulo.lower() == titulo.lower() and libro.disponible:\n",
        "                return libro\n",
        "        return None\n",
        "\n",
        "    def prestar_libro(self, titulo):\n",
        "        libro = self.buscar_libro(titulo)\n",
        "        if libro:\n",
        "            libro.disponible = False\n",
        "            return libro\n",
        "        else:\n",
        "            return None\n",
        "\n",
        "    def devolver_libro(self, titulo):\n",
        "        libro = self.buscar_libro(titulo)\n",
        "        if libro and not libro.disponible:\n",
        "            libro.disponible = True\n",
        "            return libro\n",
        "        else:\n",
        "            return None\n",
        "\n",
        "    def listar_libros(self):\n",
        "        for libro in self.libros:\n",
        "            print(libro)\n",
        "\n",
        "## Crear una instancia de la biblioteca y agregar libros:\n",
        "biblioteca = Biblioteca()\n",
        "\n",
        "libro1 = Libro(\"Harry Potter y la piedra filosofal\", \"J.K. Rowling\")\n",
        "libro2 = Libro(\"Cien años de soledad\", \"Gabriel García Márquez\")\n",
        "libro3 = Libro(\"El Señor de los Anillos\", \"J.R.R. Tolkien\")\n",
        "\n",
        "biblioteca.agregar_libro(libro1)\n",
        "biblioteca.agregar_libro(libro2)\n",
        "biblioteca.agregar_libro(libro3)\n",
        "\n",
        "## Realizar operaciones en la biblioteca:\n",
        "# Prestar un libro\n",
        "libro_prestado = biblioteca.prestar_libro(\"Cien años de soledad\")\n",
        "if libro_prestado:\n",
        "    print(f\"Se ha prestado el libro: {libro_prestado}\")\n",
        "else:\n",
        "    print(\"El libro no está disponible para prestar.\")\n",
        "\n",
        "# Devolver un libro\n",
        "libro_devuelto = biblioteca.devolver_libro(\"Cien años de soledad\")\n",
        "if libro_devuelto:\n",
        "    print(f\"Se ha devuelto el libro: {libro_devuelto}\")\n",
        "else:\n",
        "    print(\"El libro no se devolvió.\")\n",
        "\n",
        "# Listar todos los libros\n",
        "print(\"Lista de libros en la biblioteca:\")\n",
        "biblioteca.listar_libros()\n"
      ]
    },
    {
      "cell_type": "code",
      "execution_count": null,
      "metadata": {
        "id": "HghDjztcXRtU",
        "outputId": "92d4d777-35ac-4859-efbe-1aaf0cb47976"
      },
      "outputs": [
        {
          "name": "stdout",
          "output_type": "stream",
          "text": [
            "\n",
            "1. Realizar compra\n",
            "2. Realizar venta\n",
            "3. Mostrar inventario\n",
            "4. Salir\n",
            "Selecciona una opción: 1\n",
            "Ingrese el nombre del producto: Harina\n",
            "Ingrese la cantidad comprada: 2\n",
            "Compra realizada: 2 Harina(s) agregados al inventario.\n",
            "\n",
            "1. Realizar compra\n",
            "2. Realizar venta\n",
            "3. Mostrar inventario\n",
            "4. Salir\n",
            "Selecciona una opción: 3\n",
            "Inventario:\n",
            "Harina: 2\n",
            "\n",
            "1. Realizar compra\n",
            "2. Realizar venta\n",
            "3. Mostrar inventario\n",
            "4. Salir\n",
            "Selecciona una opción: 2\n",
            "Ingrese el nombre del producto: Harina\n",
            "Ingrese la cantidad vendida: 3\n",
            "No se puede realizar la venta. Stock insuficiente.\n",
            "\n",
            "1. Realizar compra\n",
            "2. Realizar venta\n",
            "3. Mostrar inventario\n",
            "4. Salir\n"
          ]
        }
      ],
      "source": [
        "class Inventario:\n",
        "    def __init__(self):\n",
        "        self.inventario = {}\n",
        "\n",
        "    def agregar_producto(self, producto, cantidad):\n",
        "        if producto in self.inventario:\n",
        "            self.inventario[producto] += cantidad\n",
        "        else:\n",
        "            self.inventario[producto] = cantidad\n",
        "\n",
        "    def vender_producto(self, producto, cantidad):\n",
        "        if producto in self.inventario and self.inventario[producto] >= cantidad:\n",
        "            self.inventario[producto] -= cantidad\n",
        "            return True\n",
        "        else:\n",
        "            return False\n",
        "\n",
        "    def mostrar_inventario(self):\n",
        "        print(\"Inventario:\")\n",
        "        for producto, cantidad in self.inventario.items():\n",
        "            print(f\"{producto}: {cantidad}\")\n",
        "\n",
        "def realizar_compra(inventario, producto, cantidad):\n",
        "    inventario.agregar_producto(producto, cantidad)\n",
        "    print(f\"Compra realizada: {cantidad} {producto}(s) agregados al inventario.\")\n",
        "\n",
        "def realizar_venta(inventario, producto, cantidad):\n",
        "    if inventario.vender_producto(producto, cantidad):\n",
        "        print(f\"Venta realizada: {cantidad} {producto}(s) vendidos.\")\n",
        "    else:\n",
        "        print(\"No se puede realizar la venta. Stock insuficiente.\")\n",
        "\n",
        "def main():\n",
        "    mi_inventario = Inventario()\n",
        "\n",
        "    while True:\n",
        "        print(\"\\n1. Realizar compra\")\n",
        "        print(\"2. Realizar venta\")\n",
        "        print(\"3. Mostrar inventario\")\n",
        "        print(\"4. Salir\")\n",
        "\n",
        "        opcion = input(\"Selecciona una opción: \")\n",
        "\n",
        "        if opcion == '1':\n",
        "            producto = input(\"Ingrese el nombre del producto: \")\n",
        "            cantidad = int(input(\"Ingrese la cantidad comprada: \"))\n",
        "            realizar_compra(mi_inventario, producto, cantidad)\n",
        "        elif opcion == '2':\n",
        "            producto = input(\"Ingrese el nombre del producto: \")\n",
        "            cantidad = int(input(\"Ingrese la cantidad vendida: \"))\n",
        "            realizar_venta(mi_inventario, producto, cantidad)\n",
        "        elif opcion == '3':\n",
        "            mi_inventario.mostrar_inventario()\n",
        "        elif opcion == '4':\n",
        "            print(\"¡Hasta luego!\")\n",
        "            break\n",
        "        else:\n",
        "            print(\"Opción inválida. Por favor, selecciona una opción válida.\")\n",
        "\n",
        "if __name__ == \"__main__\":\n",
        "    main()"
      ]
    },
    {
      "cell_type": "markdown",
      "metadata": {
        "id": "MVy4Jn_CXRtW"
      },
      "source": [
        "<img src=\"https://fossbytes.com/wp-content/uploads/2015/09/python-3-in-one-pic.png\"> </img>"
      ]
    },
    {
      "cell_type": "code",
      "execution_count": null,
      "metadata": {
        "id": "qRPRRCWGXRtY",
        "outputId": "761a62ca-ae7e-4f8c-de24-4574651d2957"
      },
      "outputs": [
        {
          "name": "stdout",
          "output_type": "stream",
          "text": [
            "Libro Mayor:\n",
            "        Fecha   Cuenta  Debe Haber\n",
            "0  2023-08-01     Caja  5000     0\n",
            "1  2023-08-02   Ventas     0  3000\n",
            "2  2023-08-05  Compras  2000     0\n",
            "3  2023-08-10     Caja     0  1500\n",
            "4  2023-08-15   Ventas     0  5000\n",
            "5  2023-08-20   Gastos   800     0\n",
            "\n",
            "Balance de Sumas y Saldos:\n",
            "         Debe  Haber  Saldo\n",
            "Cuenta                     \n",
            "Caja     5000   1500   3500\n",
            "Compras  2000      0   2000\n",
            "Gastos    800      0    800\n",
            "Ventas      0   8000  -8000\n",
            "\n",
            "Balance General:\n",
            "       Cuenta  Saldo\n",
            "0     Activos   5500\n",
            "1     Pasivos      0\n",
            "2  Patrimonio   5500\n",
            "\n",
            "Estado de Resultados:\n",
            "          Cuenta  Saldo\n",
            "0       Ingresos  -8000\n",
            "1         Gastos    800\n",
            "2  Utilidad Neta  -8800\n"
          ]
        },
        {
          "data": {
            "image/png": "[encoded data removed]",
            "text/plain": [
              "<Figure size 720x432 with 2 Axes>"
            ]
          },
          "metadata": {
            "needs_background": "light"
          },
          "output_type": "display_data"
        }
      ],
      "source": [
        "import pandas as pd\n",
        "import matplotlib.pyplot as plt\n",
        "\n",
        "# Crear un DataFrame para el Libro Mayor\n",
        "libro_mayor = pd.DataFrame(columns=['Fecha', 'Cuenta', 'Debe', 'Haber'])\n",
        "\n",
        "# Función para agregar asientos contables al Libro Mayor\n",
        "def agregar_asiento_contable(fecha, cuenta, debe, haber):\n",
        "    global libro_mayor\n",
        "    libro_mayor = libro_mayor.append({'Fecha': fecha, 'Cuenta': cuenta, 'Debe': debe, 'Haber': haber}, ignore_index=True)\n",
        "\n",
        "# Agregar asientos contables al Libro Mayor\n",
        "agregar_asiento_contable('2023-08-01', 'Caja', 5000, 0)\n",
        "agregar_asiento_contable('2023-08-02', 'Ventas', 0, 3000)\n",
        "agregar_asiento_contable('2023-08-05', 'Compras', 2000, 0)\n",
        "agregar_asiento_contable('2023-08-10', 'Caja', 0, 1500)\n",
        "agregar_asiento_contable('2023-08-15', 'Ventas', 0, 5000)\n",
        "agregar_asiento_contable('2023-08-20', 'Gastos', 800, 0)\n",
        "\n",
        "# Generar el Balance de Sumas y Saldos\n",
        "balance_sumas_saldos = libro_mayor.groupby('Cuenta').sum()[['Debe', 'Haber']]\n",
        "\n",
        "# Calcular los saldos\n",
        "balance_sumas_saldos['Saldo'] = balance_sumas_saldos['Debe'] - balance_sumas_saldos['Haber']\n",
        "\n",
        "# Crear el Balance General (simplificado)\n",
        "activos = balance_sumas_saldos.loc['Caja':'Compras', 'Saldo'].sum()\n",
        "pasivos = balance_sumas_saldos.loc['Ventas':'Gastos', 'Saldo'].sum()\n",
        "patrimonio = activos - pasivos\n",
        "balance_general = pd.DataFrame({'Cuenta': ['Activos', 'Pasivos', 'Patrimonio'],\n",
        "                                'Saldo': [activos, pasivos, patrimonio]})\n",
        "\n",
        "# Crear el Estado de Resultados (simplificado)\n",
        "ingresos = balance_sumas_saldos.loc['Ventas', 'Saldo']\n",
        "gastos = balance_sumas_saldos.loc['Gastos', 'Saldo']\n",
        "utilidad_neta = ingresos - gastos\n",
        "estado_resultados = pd.DataFrame({'Cuenta': ['Ingresos', 'Gastos', 'Utilidad Neta'],\n",
        "                                  'Saldo': [ingresos, gastos, utilidad_neta]})\n",
        "\n",
        "# Imprimir resultados\n",
        "print(\"Libro Mayor:\")\n",
        "print(libro_mayor)\n",
        "\n",
        "print(\"\\nBalance de Sumas y Saldos:\")\n",
        "print(balance_sumas_saldos)\n",
        "\n",
        "print(\"\\nBalance General:\")\n",
        "print(balance_general)\n",
        "\n",
        "print(\"\\nEstado de Resultados:\")\n",
        "print(estado_resultados)\n",
        "\n",
        "# Graficar el Balance General y el Estado de Resultados\n",
        "plt.figure(figsize=(10, 6))\n",
        "\n",
        "plt.subplot(2, 1, 1)\n",
        "balance_general.plot(kind='bar', x='Cuenta', y='Saldo', ax=plt.gca())\n",
        "plt.title(\"Balance General\")\n",
        "\n",
        "plt.subplot(2, 1, 2)\n",
        "estado_resultados.plot(kind='bar', x='Cuenta', y='Saldo', ax=plt.gca())\n",
        "plt.title(\"Estado de Resultados\")\n",
        "\n",
        "plt.tight_layout()\n",
        "plt.show()\n"
      ]
    },
    {
      "cell_type": "code",
      "execution_count": null,
      "metadata": {
        "id": "1qKSfH3kXRtb"
      },
      "outputs": [],
      "source": []
    }
  ],
  "metadata": {
    "kernelspec": {
      "display_name": "Python 3",
      "language": "python",
      "name": "python3"
    },
    "language_info": {
      "codemirror_mode": {
        "name": "ipython",
        "version": 3
      },
      "file_extension": ".py",
      "mimetype": "text/x-python",
      "name": "python",
      "nbconvert_exporter": "python",
      "pygments_lexer": "ipython3",
      "version": "3.8.3"
    },
    "colab": {
      "provenance": []
    }
  },
  "nbformat": 4,
  "nbformat_minor": 0
}