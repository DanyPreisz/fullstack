{
 "cells": [
  {
   "cell_type": "markdown",
   "id": "7301a7e5",
   "metadata": {},
   "source": [
    "Esta función devuelve el factorial del número pasado como parámetro.\n",
    "    En caso de que no sea de tipo entero y/o sea menor que 0, debe retornar nulo.\n",
    "    Recibe el argumento numero, que será el número con el que se calcule el factorial.\n",
    "    \n",
    "Ejemplos:\n",
    "\n",
    "Factorial(4) debe retornar 24\n",
    "\n",
    "Factorial(-2) debe retornar nulo\n",
    "\n",
    "Factorial(0) debe retornar 1"
   ]
  },
  {
   "cell_type": "markdown",
   "id": "5e58bfdd",
   "metadata": {},
   "source": [
    "El factorial de 4 es:"
   ]
  },
  {
   "cell_type": "code",
   "execution_count": 2,
   "id": "914cc9c3",
   "metadata": {},
   "outputs": [
    {
     "data": {
      "text/plain": [
       "24"
      ]
     },
     "execution_count": 2,
     "metadata": {},
     "output_type": "execute_result"
    }
   ],
   "source": [
    "1*2*3*4"
   ]
  },
  {
   "cell_type": "code",
   "execution_count": 1,
   "id": "9ec2c51a",
   "metadata": {},
   "outputs": [
    {
     "name": "stdout",
     "output_type": "stream",
     "text": [
      "24\n",
      "null\n",
      "1\n"
     ]
    }
   ],
   "source": [
    "function factorial(numero) {\n",
    "  // Verifica si el número no es un entero o es menor que 0\n",
    "  if (!Number.isInteger(numero) || numero < 0) {\n",
    "    return null;\n",
    "  }\n",
    "\n",
    "  // Caso base: factorial de 0 es 1\n",
    "  if (numero === 0) {\n",
    "    return 1;\n",
    "  }\n",
    "\n",
    "  // Llamada recursiva para calcular el factorial\n",
    "  return numero * factorial(numero - 1);\n",
    "}\n",
    "\n",
    "// Ejemplo de uso\n",
    "console.log(factorial(4));  // Salida: 24\n",
    "console.log(factorial(-2)); // Salida: null\n",
    "console.log(factorial(0));  // Salida: 1"
   ]
  }
 ],
 "metadata": {
  "kernelspec": {
   "display_name": "JavaScript (Node.js)",
   "language": "javascript",
   "name": "javascript"
  },
  "language_info": {
   "file_extension": ".js",
   "mimetype": "application/javascript",
   "name": "javascript",
   "version": "18.16.0"
  }
 },
 "nbformat": 4,
 "nbformat_minor": 5
}
