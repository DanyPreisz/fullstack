{
 "cells": [
  {
   "cell_type": "markdown",
   "id": "d2f5c881",
   "metadata": {},
   "source": [
    "Ejercicio 3 de CodeSignal: Dado un string, ver si es un palindrome."
   ]
  },
  {
   "cell_type": "code",
   "execution_count": 1,
   "id": "e5221d42",
   "metadata": {},
   "outputs": [
    {
     "name": "stdout",
     "output_type": "stream",
     "text": [
      "true\n"
     ]
    }
   ],
   "source": [
    "function isPalindrome(inputString) {\n",
    "    // Remove non-alphanumeric characters and convert to lowercase\n",
    "    const cleanedString = inputString.replace(/[^a-zA-Z0-9]/g, '').toLowerCase();\n",
    "    \n",
    "    // Compare the cleaned string with its reverse\n",
    "    const reversedString = cleanedString.split('').reverse().join('');\n",
    "    \n",
    "    // Check if the original and reversed strings are the same\n",
    "    return cleanedString === reversedString;\n",
    "}\n",
    "\n",
    "// Ejemplo:\n",
    "const exampleString = \"A man, a plan, a canal, Panama!\";\n",
    "const result = isPalindrome(exampleString);\n",
    "\n",
    "console.log(result);  // Output: true"
   ]
  }
 ],
 "metadata": {
  "kernelspec": {
   "display_name": "JavaScript (Node.js)",
   "language": "javascript",
   "name": "javascript"
  },
  "language_info": {
   "file_extension": ".js",
   "mimetype": "application/javascript",
   "name": "javascript",
   "version": "18.16.0"
  }
 },
 "nbformat": 4,
 "nbformat_minor": 5
}
