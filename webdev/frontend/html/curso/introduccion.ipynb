{
 "cells": [
  {
   "cell_type": "markdown",
   "id": "ff9213d6",
   "metadata": {},
   "source": [
    "<div style=\"padding:10px;background-color:lightgrey;\"><u><center><h1>¿Qué es HTML?<br></h1></center></u></div>\n",
    "<p>&emsp;&emsp;<b>HTML (HyperText Markup Language)</b> es un lenguaje de marcado más usado para crear la estructura de las páginas web.</p>\n",
    "<p>&emsp;&emsp;\n",
    "<b>HTML</b> se usa para crear los elementos de la página web: encabezados, párrafos, tablas, formularios, listas, etc. Cada elemento se usa para un propósito determinado: los encabezados se usan para los títulos, los párrafos se usan para mostrar textos, etc. Es el lenguaje de marcado usado por los browsers para interpretar las páginas web. Crea la estructura y el contenido. Trabaja en conjunto con <b>Cascading Style Sheets (CSS)</b> y lenguajes de scripting como <b>JavaScript</b>.</p>\n",
    "<p>&emsp;&emsp;<b>HTML</b> es el esqueleto estructural de cualquier website. Para crear o desarrollar un website necesitamos usar <b>HTML</b>, por ejemplo, creando una sección <b>head</b> o <b>footer</b>.</p><br>\n",
    "<div style=\"padding:10px;background-color:lightgrey;\"><u><center><h3>Versiones de HTML<br></h3></center></u></div>\n",
    "<img src=\"./imagenes/year.jpg\"></img>"
   ]
  },
  {
   "cell_type": "markdown",
   "id": "7e4ae7b0",
   "metadata": {},
   "source": [
    "<div style=\"padding:10px;background-color:lightgrey;\"><u><center><h3>Estructura de un documento HTML<br></h3></center></u></div>\n",
    "<div style=\"background-color:black;\">\n",
    "<pre style=\"margin-left: 20px;background-color:black; color:white;\">\n",
    "\n",
    "<span style=\"color:lightgreen;\">&lt;!-- HTML Version Declaration --&gt;</span>\n",
    "&lt;!DOCTYPE html&gt;             \n",
    "<span style=\"color:lightgreen;\">&lt;!-- HTML Root Element --&gt;</span>\n",
    "&lt;html&gt;\n",
    "<span style=\"color:lightgreen;\">&lt;!-- HTML Head Section --&gt;</span>\n",
    "&lt;head&gt;\n",
    "&emsp;&emsp;&emsp;<span style=\"color:lightgreen;\">&lt;!-- HTML Document Title --&gt;</span>\n",
    "&emsp;&emsp;&emsp;&lt;title>Título de la página</title&gt;\n",
    "&lt;/head&gt;\n",
    "<span style=\"color:lightgreen;\">&lt;!-- HTML Body Section --&gt;</span>\n",
    "&lt;body&gt;\n",
    "&emsp;&emsp;&emsp;<span style=\"color:lightgreen;\">&lt;!-- HTML Heading Element --&gt;</span>\n",
    "&emsp;&emsp;&emsp;&lt;h1>Título Principal</h1&gt;\n",
    "&emsp;&emsp;&emsp;<span style=\"color:lightgreen;\">&lt;!-- HTML Paragraph Element --&gt;</span>\n",
    "&emsp;&emsp;&emsp;&lt;p>Párrafo</p&gt;\n",
    "&lt;/body&gt;\n",
    "&lt;/html&gt;\n",
    "\n",
    "</pre>\n",
    "</div>  "
   ]
  },
  {
   "cell_type": "markdown",
   "id": "e037fd3f",
   "metadata": {},
   "source": [
    "<div style=\"padding:10px;background-color:lightgrey;\"><u><center><h3>Resultado<br></h3></center></u></div>\n",
    "<!-- HTML Version Declaration -->\n",
    "<!DOCTYPE html>\n",
    "<!-- HTML Root Element -->\n",
    "<html>\n",
    "<!-- HTML Head Section -->\n",
    "<head>\n",
    "   <!-- HTML Document Title -->\n",
    "   <title>Título de la página</title>\n",
    "</head>\n",
    "<!-- HTML Body Section -->\n",
    "<body>\n",
    "   <!-- HTML Heading Element -->\n",
    "   <h1>Título Principal</h1>\n",
    "   <!-- HTML Paragraph Element -->\n",
    "   <p>Párrafo</p>\n",
    "</body>\n",
    "</html>"
   ]
  },
  {
   "cell_type": "markdown",
   "id": "2e310c14",
   "metadata": {},
   "source": [
    "  <table style=\"width: 75%; border-collapse: collapse;\">\n",
    "    <thead>\n",
    "      <tr>\n",
    "        <th style=\"width: 20%;text-align: left;background-color: #f2f2f2;\">Etiqueta</th>\n",
    "        <th style=\"text-align: left;background-color: #f2f2f2;\">Descripción</th>\n",
    "      </tr>\n",
    "    </thead>\n",
    "    <tbody>\n",
    "      <tr>\n",
    "        <td style=\"font-weight: bold; width: 20%;text-align: left;\">&lt;!DOCTYPE&gt;</td>\n",
    "        <td style=\"text-align: left;\">Esta etiqueta define el tipo de documento y la versión de HTML.</td>\n",
    "      </tr>\n",
    "      <tr>\n",
    "        <td style=\"font-weight: bold;width: 20%;text-align: left;\">&lt;html&gt;</td>\n",
    "        <td style=\"text-align: left;\">Esta etiqueta engloba todo el documento HTML y principalmente comprende el encabezado del documento representado por &lt;head&gt;...&lt;/head&gt; y el cuerpo del documento que es representado por &lt;body&gt;...&lt;/body&gt;.</td>\n",
    "      </tr>\n",
    "      <tr>\n",
    "        <td style=\"font-weight: bold;width: 20%;text-align: left;\">&lt;head&gt;</td>\n",
    "        <td style=\"text-align: left;\">Esta etiqueta representa el encabezado del documento que puede contener otras etiquetas HTML como &lt;title&gt;, &lt;link&gt;, etc.</td>\n",
    "      </tr>\n",
    "      <tr>\n",
    "        <td style=\"font-weight: bold;width: 20%;text-align: left;\">&lt;title&gt;</td>\n",
    "        <td style=\"text-align: left;\">La etiqueta &lt;title&gt; se usa dentro de la etiqueta &lt;head&gt; para mencionar el título del documento.</td>\n",
    "      </tr>\n",
    "      <tr>\n",
    "        <td style=\"font-weight: bold;width: 20%;text-align: left;\">&lt;body&gt;</td>\n",
    "        <td style=\"text-align: left;\">Esta etiqueta representa el cuerpo del documento que contiene otras etiquetas HTML como &lt;h1&gt;, &lt;div&gt;, &lt;p&gt;, etc.</td>\n",
    "      </tr>\n",
    "      <tr>\n",
    "        <td style=\"font-weight: bold;width: 20%;text-align: left;\">&lt;h1&gt; a &lt;h6&gt;</td>\n",
    "        <td style=\"text-align: left;\">Especifica los encabezados de h1 a h6.</td>\n",
    "      </tr>\n",
    "      <tr>\n",
    "        <td style=\"font-weight: bold;width: 20%;text-align: left;\">&lt;p&gt;</td>\n",
    "        <td style=\"text-align: left;\">Esta etiqueta representa un párrafo.</td>\n",
    "      </tr>\n",
    "    </tbody>\n",
    "  </table>"
   ]
  },
  {
   "cell_type": "code",
   "execution_count": null,
   "id": "ea55921b",
   "metadata": {},
   "outputs": [],
   "source": []
  },
  {
   "cell_type": "code",
   "execution_count": null,
   "id": "c97b002f",
   "metadata": {},
   "outputs": [],
   "source": []
  }
 ],
 "metadata": {
  "kernelspec": {
   "display_name": "JavaScript (Node.js)",
   "language": "javascript",
   "name": "javascript"
  },
  "language_info": {
   "file_extension": ".js",
   "mimetype": "application/javascript",
   "name": "javascript",
   "version": "18.16.0"
  }
 },
 "nbformat": 4,
 "nbformat_minor": 5
}
