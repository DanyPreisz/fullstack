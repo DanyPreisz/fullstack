{
  "cells": [
    {
      "cell_type": "markdown",
      "metadata": {
        "id": "view-in-github",
        "colab_type": "text"
      },
      "source": [
        "<a href=\"https://colab.research.google.com/github/DanyPreisz/fullstackdevelopment/blob/main/1_Introduccion_variables.ipynb\" target=\"_parent\"><img src=\"https://colab.research.google.com/assets/colab-badge.svg\" alt=\"Open In Colab\"/></a>"
      ]
    },
    {
      "cell_type": "markdown",
      "metadata": {
        "id": "vDUoa0pMfphv"
      },
      "source": [
        "### ¿Qué es Python?\n",
        "\n",
        "Python es un lenguaje de programación simple, de propósito general, dinámico, de alto nivel, interactivo, interpretado, y orientado a objetos. Es uno de los más populares en el mundo.\n",
        "Guido van Rossum desarrolló Python en el National Research Institute de Países Bajos en los 1980s. Su primera versión fue presentada oficialmente en 1991. Es usado por millones de websites, apps y juegos."
      ]
    },
    {
      "cell_type": "markdown",
      "metadata": {
        "id": "y36NMO45fpiH"
      },
      "source": [
        "Elementos básicos:\n",
        "\n",
        "**Literales:** son valores fijos que se pueden usar directamente en el código. Son formas simples de inicializar objetos directamente en memoria."
      ]
    },
    {
      "cell_type": "code",
      "execution_count": null,
      "metadata": {
        "id": "id8VsrczfpiN"
      },
      "outputs": [],
      "source": [
        "# 1. Literales Numéricos\n",
        "# Enteros\n",
        "entero = 42\n",
        "# Flotantes\n",
        "decimal = 3.14\n",
        "# Números complejos\n",
        "complejo = 2 + 3j\n",
        "# 2. Literales de Cadenas\n",
        "# Cadenas simples\n",
        "cadena_simple = \"Hola, mundo\"\n",
        "# Cadenas con comillas simples\n",
        "cadena_simple_2 = '¡Hola!'\n",
        "# Cadenas multilínea\n",
        "cadena_multilinea = \"\"\"Este es un\n",
        "ejemplo de cadena\n",
        "multilínea.\"\"\"\n",
        "# 3. Literales Booleanos\n",
        "booleano_verdadero = True\n",
        "booleano_falso = False\n",
        "# 4. Literales de Secuencias\n",
        "# Listas\n",
        "lista = [1, 2, 3, 4, 5]\n",
        "# Tuplas\n",
        "tupla = (1, 2, 3)\n",
        "# 5. Literales de Conjuntos y Diccionarios\n",
        "# Conjuntos\n",
        "conjunto = {1, 2, 3, 4, 5}\n",
        "# Diccionarios\n",
        "diccionario = {'nombre': 'Alice', 'edad': 30}"
      ]
    },
    {
      "cell_type": "markdown",
      "metadata": {
        "id": "6SyIrsy_fpiZ"
      },
      "source": [
        "**Operadores:** son los operadores algebraicos =, +, /, %, **, =, ==.\n",
        "Podemos combinar literales y operadores en nuestros algoritmos. Si la instrucción no tiene sentido, el lenguaje nos devolverá el tipo de error que tengamos."
      ]
    },
    {
      "cell_type": "code",
      "execution_count": null,
      "metadata": {
        "id": "fuLvqUI3fpib"
      },
      "outputs": [],
      "source": []
    },
    {
      "cell_type": "markdown",
      "metadata": {
        "id": "RWDxz--ofpid"
      },
      "source": [
        "**Objetos:**\n",
        "Son la abstracción más alta de cualquier lenguaje de programación. Los objetos se encuentran en memoria y podemos referenciarlas con algún tipo de variable.\n",
        "\n",
        "**Tipos:**\n",
        "Los objetos pueden ser enteros, flotantes, booleanos e incluso pueden ser objetos más complejos como el modelo de un humano con todos sus características y atributos."
      ]
    },
    {
      "cell_type": "markdown",
      "metadata": {
        "id": "bkOhEh54fpig"
      },
      "source": [
        "**Escalares y no escalares:**\n",
        "Los términos **escalares** y **no escalares** se refieren a la forma en que se almacenan y manipulan los datos.\n",
        "Los **tipos escalares** son aquellos que representan un único valor."
      ]
    },
    {
      "cell_type": "code",
      "execution_count": null,
      "metadata": {
        "id": "rs45Q0cGfpik"
      },
      "outputs": [],
      "source": [
        "# Números Enteros (int)\n",
        "entero = 42\n",
        "# Números de Punto Flotante (float)\n",
        "decimal = 3.14\n",
        "# Cadenas de Texto (str)\n",
        "texto = \"Hola, mundo\"\n",
        "# Booleanos (bool)\n",
        "verdadero = True\n",
        "falso = False"
      ]
    },
    {
      "cell_type": "markdown",
      "metadata": {
        "id": "GK3w_dmLfpio"
      },
      "source": [
        "Los **tipos no escalares** pueden almacenar múltiples valores y son más complejos."
      ]
    },
    {
      "cell_type": "code",
      "execution_count": null,
      "metadata": {
        "id": "-cxjFQSbfpir"
      },
      "outputs": [],
      "source": [
        "# Listas\n",
        "lista = [1, 2, 3, 4, 5]\n",
        "# Tuplas\n",
        "tupla = (1, 2, 3)\n",
        "# Conjuntos\n",
        "conjunto = {1, 2, 3, 4, 5}\n",
        "# Diccionarios\n",
        "diccionario = {'nombre': 'Alice', 'edad': 30}"
      ]
    },
    {
      "cell_type": "markdown",
      "metadata": {
        "id": "JIYVuyRIfpiu"
      },
      "source": [
        "### Variables\n",
        "Son nombres que se vinculan con un valor en memoria, y la forma en la que los vinculamos es a través del operador de asignación (=), y para comparar su valor utilizamos 2 veces el operador de asignación (==). La forma correcta de nombrar nuestras variables es darles un nombre descriptivo."
      ]
    }
  ],
  "metadata": {
    "kernelspec": {
      "display_name": "Python 3 (ipykernel)",
      "language": "python",
      "name": "python3"
    },
    "colab": {
      "provenance": [],
      "include_colab_link": true
    }
  },
  "nbformat": 4,
  "nbformat_minor": 0
}