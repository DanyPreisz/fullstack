{
 "cells": [
  {
   "cell_type": "markdown",
   "metadata": {},
   "source": [
    "### ¿Qué es Python?\n",
    "\n",
    "Python es un lenguaje de programación simple, de propósito general, dinámico, de alto nivel, interactivo, interpretado, y orientado a objetos. Es uno de los más populares en el mundo.\n",
    "Guido van Rossum desarrolló Python en el National Research Institute de Países Bajos en los 1980s. Su primera versión fue presentada oficialmente en 1991. Es usado por millones de websites, apps y juegos."
   ]
  },
  {
   "cell_type": "markdown",
   "metadata": {},
   "source": [
    "Los elementos básicos son:\n",
    "\n",
    "**Literales:** son valores fijos que se pueden usar directamente en el código. Son formas simples de inicializar objetos directamente en memoria. Ejemplos: 1, 'abc', 2.0, True."
   ]
  },
  {
   "cell_type": "markdown",
   "metadata": {},
   "source": [
    "**Operadores:** son los operadores algebraicos =, +, /, %, **, =, ==.\n",
    "Podemos combinar literales y operadores en nuestros algoritmos. Si la instrucción no tiene sentido, el lenguaje nos devolverá el tipo de error que tengamos."
   ]
  },
  {
   "cell_type": "code",
   "execution_count": 3,
   "metadata": {},
   "outputs": [
    {
     "data": {
      "text/plain": [
       "1"
      ]
     },
     "execution_count": 3,
     "metadata": {},
     "output_type": "execute_result"
    }
   ],
   "source": [
    "diccionario = {'nombre': 'Alice', 'edad': 30}\n",
    "2-1"
   ]
  },
  {
   "cell_type": "markdown",
   "metadata": {},
   "source": [
    "**Objetos:**\n",
    "Son la abstracción más alta de cualquier lenguaje de programación. Los objetos se encuentran en memoria y podemos referenciarlas con algún tipo de variable.\n",
    "\n",
    "**Tipos:**\n",
    "Los objetos pueden ser enteros, flotantes, booleanos e incluso pueden ser objetos más complejos como el modelo de un humano con todos sus características y atributos."
   ]
  },
  {
   "cell_type": "markdown",
   "metadata": {},
   "source": [
    "**Escalares y no escalares:**\n",
    "Los términos **escalares** y **no escalares** se refieren a la forma en que se almacenan y manipulan los datos.\n",
    "Los **tipos escalares** son aquellos que representan un único valor. "
   ]
  },
  {
   "cell_type": "code",
   "execution_count": 1,
   "metadata": {},
   "outputs": [],
   "source": [
    "# Números Enteros (int)\n",
    "entero = 42\n",
    "# Números de Punto Flotante (float)\n",
    "decimal = 3.14\n",
    "# Cadenas de Texto (str)\n",
    "texto = \"Hola, mundo\"\n",
    "# Booleanos (bool)\n",
    "verdadero = True\n",
    "falso = False"
   ]
  },
  {
   "cell_type": "markdown",
   "metadata": {},
   "source": [
    "Los **tipos no escalares** pueden almacenar múltiples valores y son más complejos."
   ]
  },
  {
   "cell_type": "code",
   "execution_count": 2,
   "metadata": {},
   "outputs": [],
   "source": [
    "# Listas\n",
    "lista = [1, 2, 3, 4, 5]\n",
    "# Tuplas\n",
    "tupla = (1, 2, 3)\n",
    "# Conjuntos\n",
    "conjunto = {1, 2, 3, 4, 5}\n",
    "# Diccionarios\n",
    "diccionario = {'nombre': 'Alice', 'edad': 30}"
   ]
  },
  {
   "cell_type": "markdown",
   "metadata": {},
   "source": [
    "### Variables\n",
    "Son nombres que se vinculan con un valor en memoria, y la forma en la que los vinculamos es a través del operador de asignación (=), y para comparar su valor utilizamos 2 veces el operador de asignación (==). La forma correcta de nombrar nuestras variables es darles un nombre descriptivo."
   ]
  }
 ],
 "metadata": {
  "kernelspec": {
   "display_name": "Python 3 (ipykernel)",
   "language": "python",
   "name": "python3"
  },
  "language_info": {
   "codemirror_mode": {
    "name": "ipython",
    "version": 3
   },
   "file_extension": ".py",
   "mimetype": "text/x-python",
   "name": "python",
   "nbconvert_exporter": "python",
   "pygments_lexer": "ipython3",
   "version": "3.12.1"
  }
 },
 "nbformat": 4,
 "nbformat_minor": 2
}
