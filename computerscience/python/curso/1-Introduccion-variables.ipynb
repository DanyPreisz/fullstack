{
 "cells": [
  {
   "cell_type": "markdown",
   "metadata": {},
   "source": [
    "### ¿Qué es Python?\n",
    "\n",
    "Python es un lenguaje de programación simple, de propósito general, dinámico, de alto nivel, interactivo, interpretado, y orientado a objetos. Es uno de los más populares en el mundo.\n",
    "Guido van Rossum desarrolló Python en el National Research Institute de Países Bajos en los 1980s. Su primera versión fue presentada oficialmente en 1991. Es usado por millones de websites, apps y juegos."
   ]
  },
  {
   "cell_type": "markdown",
   "metadata": {},
   "source": [
    "Los elementos básicos son:\n",
    "\n",
    "**Literales:** son formas simples de inicializar objetos directamente en memoria. Ejemplos: 1, 'abc', 2.0, True.\n",
    "\n",
    "**Operadores:** son los operadores algebraicos =, +, /, %, **, =, ==.\n",
    "\n",
    "Podemos combinar literales y operadores en nuestros algoritmos. Si la instrucción no tiene sentido, el lenguaje nos devolverá el tipo de error que tengamos."
   ]
  }
 ],
 "metadata": {
  "kernelspec": {
   "display_name": "Python 3 (ipykernel)",
   "language": "python",
   "name": "python3"
  },
  "language_info": {
   "codemirror_mode": {
    "name": "ipython",
    "version": 3
   },
   "file_extension": ".py",
   "mimetype": "text/x-python",
   "name": "python",
   "nbconvert_exporter": "python",
   "pygments_lexer": "ipython3",
   "version": "3.12.1"
  }
 },
 "nbformat": 4,
 "nbformat_minor": 2
}
