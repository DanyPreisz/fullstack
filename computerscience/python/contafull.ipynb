{
 "cells": [
  {
   "cell_type": "code",
   "execution_count": 24,
   "metadata": {
    "scrolled": true
   },
   "outputs": [
    {
     "name": "stdout",
     "output_type": "stream",
     "text": [
      "Libro Mayor:\n",
      "  Num       Fecha                Cuenta Debe Haber\n",
      "0   1  2022-01-01                  Caja  320     0\n",
      "1   1  2022-01-01            Caja Chica   60     0\n",
      "2   1  2022-01-01              Caja U$S    0     0\n",
      "3   1  2022-01-01            Caja Euros    0     0\n",
      "4   1  2022-01-01  Banco Nación Cta Cte  688     0\n",
      "5   1  2023-08-02                Ventas    0     0\n",
      "6   1  2023-08-05               Compras    0     0\n",
      "7   1  2023-08-10                  Caja    0     0\n",
      "8   1  2023-08-15                Ventas    0     0\n",
      "9   1  2023-08-20                Gastos    0     0\n",
      "\n",
      "Balance de Sumas y Saldos:\n",
      "                      Debe  Haber  Saldo\n",
      "Cuenta                                  \n",
      "Banco Nación Cta Cte   688      0    688\n",
      "Caja                   320      0    320\n",
      "Caja Chica              60      0     60\n",
      "Caja Euros               0      0      0\n",
      "Caja U$S                 0      0      0\n",
      "Compras                  0      0      0\n",
      "Gastos                   0      0      0\n",
      "Ventas                   0      0      0\n",
      "\n",
      "Balance General:\n",
      "            Cuenta  Saldo\n",
      "0          Activos   1068\n",
      "1          Pasivos      0\n",
      "2  Patrimonio Neto   1068\n",
      "\n",
      "Estado de Resultados:\n",
      "          Cuenta  Saldo\n",
      "0       Ingresos      0\n",
      "1         Gastos      0\n",
      "2  Utilidad Neta      0\n"
     ]
    },
    {
     "data": {
      "image/png": "[encoded data removed]",
      "text/plain": [
       "<Figure size 720x432 with 2 Axes>"
      ]
     },
     "metadata": {
      "needs_background": "light"
     },
     "output_type": "display_data"
    }
   ],
   "source": [
    "import pandas as pd\n",
    "import matplotlib.pyplot as plt\n",
    "\n",
    "# Crear un DataFrame para el Libro Mayor\n",
    "libro_mayor = pd.DataFrame(columns=[\"Num\",'Fecha', 'Cuenta', 'Debe', 'Haber'])\n",
    "\n",
    "# Función para agregar asientos contables al Libro Mayor\n",
    "def agregar_asiento_contable(num, fecha, cuenta, debe, haber):\n",
    "    global libro_mayor\n",
    "    libro_mayor = libro_mayor.append({\"Num\": num, 'Fecha': fecha, 'Cuenta': cuenta, 'Debe': debe, 'Haber': haber}, ignore_index=True)\n",
    "\n",
    "# Agregar asientos contables al Libro Mayor\n",
    "agregar_asiento_contable(1, '2022-01-01', 'Caja', 320, 0)\n",
    "agregar_asiento_contable(1, '2022-01-01', 'Caja Chica', 60, 0)\n",
    "agregar_asiento_contable(1, '2022-01-01', 'Caja U$S', 0, 0)\n",
    "agregar_asiento_contable(1, '2022-01-01', 'Caja Euros', 0, 0)\n",
    "agregar_asiento_contable(1, '2022-01-01', 'Banco Nación Cta Cte', 688, 0)\n",
    "agregar_asiento_contable(1, '2023-08-02', 'Ventas', 0, 000)\n",
    "agregar_asiento_contable(1, '2023-08-05', 'Compras', 000, 0)\n",
    "agregar_asiento_contable(1, '2023-08-10', 'Caja', 0, 00)\n",
    "agregar_asiento_contable(1, '2023-08-15', 'Ventas', 0, 000)\n",
    "agregar_asiento_contable(1, '2023-08-20', 'Gastos', 00, 0)\n",
    "\n",
    "# Generar el Balance de Sumas y Saldos\n",
    "balance_sumas_saldos = libro_mayor.groupby('Cuenta').sum()[['Debe', 'Haber']]\n",
    "\n",
    "# Calcular los saldos\n",
    "balance_sumas_saldos['Saldo'] = balance_sumas_saldos['Debe'] - balance_sumas_saldos['Haber']\n",
    "\n",
    "# Crear el Balance General (simplificado)\n",
    "activos = balance_sumas_saldos.loc['Banco Nación Cta Cte':'Caja Euros', 'Saldo'].sum()\n",
    "pasivos = balance_sumas_saldos.loc['Ventas':'Gastos', 'Saldo'].sum()\n",
    "patrimonio = activos - pasivos\n",
    "balance_general = pd.DataFrame({'Cuenta': ['Activos', 'Pasivos', 'Patrimonio Neto'],\n",
    "                                'Saldo': [activos, pasivos, patrimonio]})\n",
    "\n",
    "# Crear el Estado de Resultados (simplificado)\n",
    "ingresos = balance_sumas_saldos.loc['Ventas', 'Saldo']\n",
    "gastos = balance_sumas_saldos.loc['Gastos', 'Saldo']\n",
    "utilidad_neta = ingresos - gastos\n",
    "estado_resultados = pd.DataFrame({'Cuenta': ['Ingresos', 'Gastos', 'Utilidad Neta'],\n",
    "                                  'Saldo': [ingresos, gastos, utilidad_neta]})\n",
    "\n",
    "# Imprimir resultados\n",
    "print(\"Libro Mayor:\")\n",
    "print(libro_mayor)\n",
    "\n",
    "print(\"\\nBalance de Sumas y Saldos:\")\n",
    "print(balance_sumas_saldos)\n",
    "\n",
    "print(\"\\nBalance General:\")\n",
    "print(balance_general)\n",
    "\n",
    "print(\"\\nEstado de Resultados:\")\n",
    "print(estado_resultados)\n",
    "\n",
    "# Graficar el Balance General y el Estado de Resultados\n",
    "plt.figure(figsize=(10, 6))\n",
    "\n",
    "plt.subplot(2, 1, 1)\n",
    "balance_general.plot(kind='bar', x='Cuenta', y='Saldo', ax=plt.gca())\n",
    "plt.title(\"Balance General\")\n",
    "\n",
    "plt.subplot(2, 1, 2)\n",
    "estado_resultados.plot(kind='bar', x='Cuenta', y='Saldo', ax=plt.gca())\n",
    "plt.title(\"Estado de Resultados\")\n",
    "\n",
    "plt.tight_layout()\n",
    "plt.show()\n"
   ]
  },
  {
   "cell_type": "code",
   "execution_count": null,
   "metadata": {},
   "outputs": [],
   "source": []
  }
 ],
 "metadata": {
  "kernelspec": {
   "display_name": "Python 3",
   "language": "python",
   "name": "python3"
  },
  "language_info": {
   "codemirror_mode": {
    "name": "ipython",
    "version": 3
   },
   "file_extension": ".py",
   "mimetype": "text/x-python",
   "name": "python",
   "nbconvert_exporter": "python",
   "pygments_lexer": "ipython3",
   "version": "3.8.3"
  }
 },
 "nbformat": 4,
 "nbformat_minor": 4
}
