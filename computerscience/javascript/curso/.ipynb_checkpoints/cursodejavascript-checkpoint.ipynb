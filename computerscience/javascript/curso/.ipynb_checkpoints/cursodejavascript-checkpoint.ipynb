{
 "cells": [
  {
   "cell_type": "code",
   "execution_count": 2,
   "metadata": {},
   "outputs": [
    {
     "name": "stdout",
     "output_type": "stream",
     "text": [
      "Hola\n"
     ]
    }
   ],
   "source": [
    "console.log(\"Hola\")"
   ]
  },
  {
   "cell_type": "code",
   "execution_count": 2,
   "metadata": {},
   "outputs": [
    {
     "name": "stdout",
     "output_type": "stream",
     "text": [
      "true [ 'Jamaica', 'Chicha Morada', 'Pozol' ]\n"
     ]
    }
   ],
   "source": [
    "\"use strict\"\n",
    "//*** Crear un arreglo\n",
    "var platillos = [ \"ceviche\", \"tacos\", \"pasta\"];\n",
    "//var bebidas = new Array( \"Jamaica\", \"Chicha Morada\", \"Pozol\" );\n",
    "console.log(Array.isArray(platillos), bebidas)"
   ]
  },
  {
   "cell_type": "code",
   "execution_count": null,
   "metadata": {},
   "outputs": [],
   "source": []
  }
 ],
 "metadata": {
  "kernelspec": {
   "display_name": "JavaScript (Node.js)",
   "language": "javascript",
   "name": "javascript"
  },
  "language_info": {
   "file_extension": ".js",
   "mimetype": "application/javascript",
   "name": "javascript",
   "version": "18.16.0"
  }
 },
 "nbformat": 4,
 "nbformat_minor": 4
}
