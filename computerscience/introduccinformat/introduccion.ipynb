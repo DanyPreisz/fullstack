{
  "cells": [
    {
      "cell_type": "markdown",
      "metadata": {},
      "source": [
        "<h2 style=\"background-color: black; color: white; text-align: center; padding: 12px;\">Introducción</h2>"
      ]
    },
    {
      "cell_type": "markdown",
      "metadata": {},
      "source": [
        "<p>Los <b>números</b> no han sido parte de nuestra cultura desde siempre, pero su aparición cambió la vida de\n",
        "nuestra especie. En un principio no importaba contar las cantidades de animales salvajes en la selva,\n",
        "pero con el tiempo se descubrió la importancia de determinar los ciclos de las cosechas y de llevar registros de acontecimientos importantes.</p>"
      ]
    },
    {
      "cell_type": "markdown",
      "metadata": {},
      "source": [
        "<p>En 1960 se encontró a orillas del Lago Eduardo (en Zaire, Africa)\n",
        "un artefacto que luego se bautizó como <b>hueso Ishango</b>, uno de los primeros documentos matemáticos\n",
        "de que se tiene noticia. Este hueso data de alrededor\n",
        "del año 6500 a.C. y contiene tres columnas de marcas que\n",
        "fueron hechas con 39 herramientas diferentes, lo que ha hecho pensar\n",
        "a los arqueólogos que se usó para llevar el registro de alguna\n",
        "actividad. Las marcas en dos de esas columnas suman\n",
        "60, mientras que una de ellas contiene los números primos 11,\n",
        "13, 17 y 19, lo cual representa un ejercicio matemático sumamente\n",
        "avanzado para la época. Otra de las columnas parece ilustrar el método\n",
        "de duplicación que usarían los egipcios para multiplicar muchos\n",
        "años después. Estudios recientes efectuados con microscopios han\n",
        "revelado la existencia de más marcas que parecen indicar que este hueso servía para llevar la cuenta de las fases de la luna a través de\n",
        "los meses, y con base en esa hipótesis se ha especulado que lo pudo\n",
        "haber tallado una mujer que quería llevar un registro de sus ciclos\n",
        "menstruales. Si así fuera, entonces parecería ser que este tipo de sistema de\n",
        "registro de acontecimientos se originó desde el Paleolítico Superior,\n",
        "unos 30000 años antes de Cristo.</p>"
      ]
    },
    {
      "cell_type": "markdown",
      "metadata": {},
      "source": [
        "<p>Una <b>tableta de arcilla</b> proveniente de Senkereh, en Babilonia (hoy\n",
        "Irak), que data de alrededor del año 2000 a.C., contiene los cuadrados\n",
        "de los enteros del 1 al 24 y al parecer se usaba como una especie\n",
        "de tabla para multiplicar. Se cree que quien elaboró esta tabla pudo\n",
        "haber usado la primera computadora digital de la historia: <b>el ábaco</b>,\n",
        "que al parecer fue inventado en Babilonia unos 3000 años a.C., aunque su uso más antiguo documentado\n",
        "fue en China unos 500 años a.C. Los chinos le dieron al ábaco su forma moderna en el año 1200 de nuestra\n",
        "era, y luego lo distribuyeron a Corea (en 1400) y a Japón (en 1600). El\n",
        "ábaco fue un instrumento muy popular en la mayoría de las\n",
        "sociedades antiguas, incluyendo a griegos (en el año 300 a.C.) y\n",
        "aztecas (en el año 1000 de nuestra era), pero también ha sido la única\n",
        "computadora en resistir los embates del tiempo, pues todavía sigue\n",
        "en uso entre chinos y japoneses.</p>"
      ]
    },
    {
      "cell_type": "markdown",
      "metadata": {},
      "source": []
    },
    {
      "cell_type": "markdown",
      "metadata": {},
      "source": [
        "<p>La popularidad del ábaco se debe a que quien logra manejarlo bien puede realizar sumas y restas \n",
        "con asombrosa rapidez. La demostración más célebre de este hecho \n",
        "fue la competencia que se efectuó el 12 de noviembre de 1946 en Tokio, en la que Kigoshi Matsuzaki (de la Oficina de Correos de Japón) \n",
        "logró vencer con su soroban (el ábaco japonés), en cuatro de las cinco \n",
        "pruebas efectuadas, a la sumadora eléctrica más rápida de la época, operada por el experimentado soldado norteamericano Thomas \n",
        "Nathan Wood.</p> "
      ]
    },
    {
      "cell_type": "code",
      "execution_count": null,
      "metadata": {
        "trusted": true
      },
      "outputs": [],
      "source": []
    }
  ],
  "metadata": {
    "kernelspec": {
      "display_name": "Python (Pyodide)",
      "language": "python",
      "name": "python"
    },
    "language_info": {
      "codemirror_mode": {
        "name": "python",
        "version": 3
      },
      "file_extension": ".py",
      "mimetype": "text/x-python",
      "name": "python",
      "nbconvert_exporter": "python",
      "pygments_lexer": "ipython3",
      "version": "3.8"
    }
  },
  "nbformat": 4,
  "nbformat_minor": 4
}
