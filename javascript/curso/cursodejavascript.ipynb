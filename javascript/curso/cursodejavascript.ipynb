{
 "cells": [
  {
   "cell_type": "code",
   "execution_count": 80,
   "metadata": {},
   "outputs": [
    {
     "name": "stdout",
     "output_type": "stream",
     "text": [
      "Hola\n"
     ]
    }
   ],
   "source": [
    "console.log(\"Hola\")"
   ]
  },
  {
   "cell_type": "markdown",
   "metadata": {},
   "source": [
    "# JavaScript #\n",
    "JavaScript es un lenguaje de programación creado originalmente para ser usado en el front-end de una pǻgina web. La idea original era poder dar dinamismo a las páginas webs, que en un principio eran estáticas. La introducción del \"motor V8\" de Google ha mejorado la velocidad y el funcionamiento de JavaScript, convirtiéndolo en el lenguaje principal de la web, llegando inclusive al Back-End a través de NodeJs.\n",
    "### Variables ###\n",
    "Una variable es una forma de almacenar un valor para usarlo más tarde. Javascript es un lenguaje de tipado dinámico, una variable se puede configurar a cualquier tipo, sin necesidad de declarar su tipo al iniciarla.\n",
    "Existen tres formas de declarar una variable:\n",
    "### var ###\n",
    "Usando la palabra clave var, seguida de un espacio y el nombre de la variable (con este nombre podremos hacer referencia a ella luego). Le asignamos un valor usando el signo =. Las palabras claves o keywords son palabras especiales que utiliza el lenguaje para indicar algo. No podemos usar las palabras claves del lenguaje como nombres de variables."
   ]
  },
  {
   "cell_type": "code",
   "execution_count": null,
   "metadata": {},
   "outputs": [],
   "source": [
    "var nombre = 'Juan'; // Vamos a usar principalemente esta forma\n",
    "let apellido = 'Perez';\n",
    "const comidafavorita = 'Pizza';"
   ]
  },
  {
   "cell_type": "markdown",
   "metadata": {},
   "source": [
    "### Condicional If...Else ###"
   ]
  },
  {
   "cell_type": "code",
   "execution_count": 127,
   "metadata": {},
   "outputs": [
    {
     "name": "stdout",
     "output_type": "stream",
     "text": [
      "Eres mayor de edad\n"
     ]
    }
   ],
   "source": [
    "let edad = 18;\n",
    "if (edad >= 18) {\n",
    "    console.log(\"Eres mayor de edad\");\n",
    "} else {\n",
    "    console.log(\"Eres menor de edad\");\n",
    "}"
   ]
  },
  {
   "cell_type": "markdown",
   "metadata": {},
   "source": [
    "### Array o arreglo ###\n",
    "Es una estructura de datos que se utiliza para almacenar una colección ordenada de elementos. Cada elemento en un array está identificado por un índice numérico, empezando desde 0 para el primer elemento.\n",
    "Se puede crear un array de varias formas:"
   ]
  },
  {
   "cell_type": "code",
   "execution_count": 81,
   "metadata": {
    "scrolled": false
   },
   "outputs": [],
   "source": [
    "//Crear una array vacío\n",
    "var arrayVacio = [];"
   ]
  },
  {
   "cell_type": "code",
   "execution_count": null,
   "metadata": {},
   "outputs": [],
   "source": [
    "//Se puede mezclar diferentes tipos de datos en un array\n",
    "let arrayMixto = [1, \"dos\", true, null, { nombre: \"Juan\" }];"
   ]
  },
  {
   "cell_type": "code",
   "execution_count": 94,
   "metadata": {},
   "outputs": [
    {
     "data": {
      "text/plain": [
       "[ 1, 'dos', true, null, { nombre: 'Juan' } ]"
      ]
     },
     "execution_count": 94,
     "metadata": {},
     "output_type": "execute_result"
    }
   ],
   "source": [
    "arrayMixto"
   ]
  },
  {
   "cell_type": "code",
   "execution_count": 89,
   "metadata": {},
   "outputs": [],
   "source": [
    "//Crear una array con elementos\n",
    "let arrayConElementos = [1, 2, 3, 4, 5];"
   ]
  },
  {
   "cell_type": "code",
   "execution_count": 95,
   "metadata": {},
   "outputs": [
    {
     "data": {
      "text/plain": [
       "[ 1, 7, 3, 4, 5 ]"
      ]
     },
     "execution_count": 95,
     "metadata": {},
     "output_type": "execute_result"
    }
   ],
   "source": [
    "arrayConElementos"
   ]
  },
  {
   "cell_type": "markdown",
   "metadata": {},
   "source": [
    "Otra forma de crear un nuevo array es usando el constructor del objeto Array y pasándole elementos: \"Jamaica\", \"Chicha Morada\" y \"Pozol\""
   ]
  },
  {
   "cell_type": "code",
   "execution_count": 99,
   "metadata": {},
   "outputs": [
    {
     "name": "stdout",
     "output_type": "stream",
     "text": [
      "true [ 'Jamaica', 'Chicha Morada', 'Pozol' ] Pozol []\n"
     ]
    }
   ],
   "source": [
    "var comidas = [\"ceviche\", \"tacos\", \"pasta\"];\n",
    "var bebidas = new Array( \"Jamaica\", \"Chicha Morada\", \"Pozol\" );\n",
    "console.log(Array.isArray(comidas), bebidas, bebidas[2], arrayVacio);"
   ]
  },
  {
   "cell_type": "code",
   "execution_count": 85,
   "metadata": {
    "scrolled": false
   },
   "outputs": [
    {
     "name": "stdout",
     "output_type": "stream",
     "text": [
      "1\n",
      "3\n"
     ]
    }
   ],
   "source": [
    "// Acceder a elementos del array usando índices\n",
    "console.log(arrayConElementos[0]); // Imprimirá 1\n",
    "console.log(arrayConElementos[2]); // Imprimirá 3"
   ]
  },
  {
   "cell_type": "code",
   "execution_count": 86,
   "metadata": {},
   "outputs": [
    {
     "data": {
      "text/plain": [
       "[ 1, 7, 3, 4, 5 ]"
      ]
     },
     "execution_count": 86,
     "metadata": {},
     "output_type": "execute_result"
    }
   ],
   "source": [
    "// Modificar elementos del array\n",
    "arrayConElementos[1] = 7; // Cambia el segundo elemento a 7\n",
    "arrayConElementos"
   ]
  },
  {
   "cell_type": "code",
   "execution_count": null,
   "metadata": {},
   "outputs": [],
   "source": []
  },
  {
   "cell_type": "code",
   "execution_count": 101,
   "metadata": {},
   "outputs": [
    {
     "name": "stdout",
     "output_type": "stream",
     "text": [
      "5\n"
     ]
    }
   ],
   "source": [
    "// Obtener la longitud (cantidad de elementos) del array\n",
    "console.log(arrayConElementos.length); // Imprimirá 5"
   ]
  },
  {
   "cell_type": "code",
   "execution_count": null,
   "metadata": {},
   "outputs": [],
   "source": []
  },
  {
   "cell_type": "code",
   "execution_count": 102,
   "metadata": {},
   "outputs": [
    {
     "data": {
      "text/plain": [
       "[ 1, 7, 3, 4, 5, 6 ]"
      ]
     },
     "execution_count": 102,
     "metadata": {},
     "output_type": "execute_result"
    }
   ],
   "source": [
    "// Agregar elementos al final del array\n",
    "arrayConElementos.push(6);\n",
    "arrayConElementos"
   ]
  },
  {
   "cell_type": "code",
   "execution_count": null,
   "metadata": {},
   "outputs": [],
   "source": []
  },
  {
   "cell_type": "code",
   "execution_count": 104,
   "metadata": {},
   "outputs": [
    {
     "data": {
      "text/plain": [
       "[ 1, 7, 3, 4 ]"
      ]
     },
     "execution_count": 104,
     "metadata": {},
     "output_type": "execute_result"
    }
   ],
   "source": [
    "// Eliminar el último elemento del array\n",
    "arrayConElementos.pop();\n",
    "arrayConElementos"
   ]
  },
  {
   "cell_type": "code",
   "execution_count": 87,
   "metadata": {},
   "outputs": [
    {
     "name": "stdout",
     "output_type": "stream",
     "text": [
      "Hay 4 platillos en el menú\n",
      "El platillo seleccionado es:  tostadas\n"
     ]
    }
   ],
   "source": [
    "//*** Medir y acceder a un arreglo\n",
    "var platillos = [\"ceviche\", \"tacos\", \"pasta\", \"tostadas\"];\n",
    "console.log(\"Hay \"+ platillos.length + \" platillos en el menú\");\n",
    "var platillo = platillos[platillos.length -1];\n",
    "console.log(\"El platillo seleccionado es: \", platillo)"
   ]
  },
  {
   "cell_type": "code",
   "execution_count": null,
   "metadata": {},
   "outputs": [],
   "source": []
  },
  {
   "cell_type": "code",
   "execution_count": 105,
   "metadata": {},
   "outputs": [
    {
     "name": "stdout",
     "output_type": "stream",
     "text": [
      "ceviche\n",
      "tacos\n",
      "pasta\n",
      "tostadas\n"
     ]
    }
   ],
   "source": [
    "// Recorrer un array usando un ciclo for\n",
    "for (let i = 0; i < platillos.length; i++) {\n",
    "  console.log(platillos[i]);\n",
    "}"
   ]
  },
  {
   "cell_type": "code",
   "execution_count": null,
   "metadata": {},
   "outputs": [],
   "source": []
  },
  {
   "cell_type": "code",
   "execution_count": 111,
   "metadata": {},
   "outputs": [
    {
     "name": "stdout",
     "output_type": "stream",
     "text": [
      "ceviche\n",
      "tacos\n",
      "pasta\n",
      "tostadas\n"
     ]
    }
   ],
   "source": [
    "// Recorrer un array usando forEach (una forma más moderna)\n",
    "platillos.forEach(function(elementos) {\n",
    "  console.log(elementos);\n",
    "});"
   ]
  },
  {
   "cell_type": "code",
   "execution_count": null,
   "metadata": {},
   "outputs": [],
   "source": [
    "// Métodos para modificar, agregar y eliminar elementos de un array"
   ]
  },
  {
   "cell_type": "code",
   "execution_count": null,
   "metadata": {},
   "outputs": [],
   "source": []
  },
  {
   "cell_type": "code",
   "execution_count": 126,
   "metadata": {},
   "outputs": [
    {
     "data": {
      "text/plain": [
       "[ 1, 2, 4, 5, 6, 7 ]"
      ]
     },
     "execution_count": 126,
     "metadata": {},
     "output_type": "execute_result"
    }
   ],
   "source": [
    "let arrayConSieteElementos = [1, 2, 3, 4, 5, 6, 7];\n",
    "arrayConSieteElementos.splice(2, 1); // Elimina 1 elemento a partir del índice 2\n",
    "arrayConSieteElementos"
   ]
  },
  {
   "cell_type": "code",
   "execution_count": null,
   "metadata": {},
   "outputs": [],
   "source": []
  },
  {
   "cell_type": "code",
   "execution_count": 123,
   "metadata": {},
   "outputs": [
    {
     "data": {
      "text/plain": [
       "[ 1, 2, 3, 4, 8, 9 ]"
      ]
     },
     "execution_count": 123,
     "metadata": {},
     "output_type": "execute_result"
    }
   ],
   "source": [
    "let arrayConCuatroElementos = [1, 2, 3, 4];\n",
    "arrayConCuatroElementos.push(8, 9);   // Agrega 8 y 9 al final del array\n",
    "arrayConCuatroElementos"
   ]
  },
  {
   "cell_type": "code",
   "execution_count": null,
   "metadata": {},
   "outputs": [],
   "source": []
  }
 ],
 "metadata": {
  "kernelspec": {
   "display_name": "JavaScript (Node.js)",
   "language": "javascript",
   "name": "javascript"
  },
  "language_info": {
   "file_extension": ".js",
   "mimetype": "application/javascript",
   "name": "javascript",
   "version": "18.16.0"
  }
 },
 "nbformat": 4,
 "nbformat_minor": 4
}
