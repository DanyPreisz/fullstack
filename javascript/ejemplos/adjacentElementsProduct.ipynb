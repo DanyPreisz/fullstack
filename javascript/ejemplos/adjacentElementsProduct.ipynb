{
 "cells": [
  {
   "cell_type": "markdown",
   "id": "be369337",
   "metadata": {},
   "source": [
    "Esta función en JavaScript busca el par de elementos adyacentes en un array que tiene el producto más grande y devuelve ese producto. "
   ]
  },
  {
   "cell_type": "code",
   "execution_count": 1,
   "id": "74c4cd8a",
   "metadata": {},
   "outputs": [
    {
     "name": "stdout",
     "output_type": "stream",
     "text": [
      "-8\n"
     ]
    }
   ],
   "source": [
    "function solution(inputArray) {\n",
    "  if (inputArray.length < 2) {\n",
    "    // Not enough elements to form a pair\n",
    "    return undefined;\n",
    "  }\n",
    "\n",
    "  let maxProduct = inputArray[0] * inputArray[1];\n",
    "\n",
    "  for (let i = 1; i < inputArray.length - 1; i++) {\n",
    "    const currentProduct = inputArray[i] * inputArray[i + 1];\n",
    "    maxProduct = Math.max(maxProduct, currentProduct);\n",
    "  }\n",
    "\n",
    "  return maxProduct;\n",
    "}\n",
    "\n",
    "// Ejemplo:\n",
    "const inputArray = [3, -7, 2, -5, 8, -1];\n",
    "const result = solution(inputArray);\n",
    "console.log(result); // Output: -8 (product of 8 and -1)"
   ]
  },
  {
   "cell_type": "markdown",
   "id": "eb183fb6",
   "metadata": {},
   "source": [
    "Explicación:\n",
    "- Chequeo Inicial:\n",
    "La función comienza verificando si la longitud del array inputArray es menor que 2. Si es así, significa que no hay suficientes elementos para formar un par, y la función devuelve undefined.\n",
    "- Inicialización del Producto Máximo:\n",
    "Se inicializa la variable maxProduct con el producto de los dos primeros elementos de inputArray.\n",
    "- Bucle For:\n",
    "Se inicia un bucle for que comienza desde el segundo elemento del array (i = 1) hasta el penúltimo elemento (inputArray.length - 1). Esto es porque estamos buscando pares adyacentes y necesitamos parar en el penúltimo elemento para evitar un índice fuera de rango en la última iteración.\n",
    "- Cálculo del Producto Actual:\n",
    "En cada iteración del bucle, se calcula el producto de los elementos adyacentes actuales y se almacena en la variable currentProduct.\n",
    "Actualización del Producto Máximo:\n",
    "Se utiliza Math.max para comparar el producto actual (currentProduct) con el producto máximo hasta el momento (maxProduct). Si currentProduct es mayor, se actualiza maxProduct con este valor.\n",
    "- Resultado Final:\n",
    "Después de recorrer todo el array, la función devuelve el valor final de maxProduct, que representa el producto máximo de elementos adyacentes en el array.\n",
    "- Ejemplo de Uso:\n",
    "Se proporciona un ejemplo de uso con el array [3, -7, 2, -5, 8, -1]. La función se llama con este array, y el resultado se almacena en la variable result. Luego, se imprime el resultado en la consola, que en este caso sería 8, el producto de los elementos 8 y -1."
   ]
  }
 ],
 "metadata": {
  "kernelspec": {
   "display_name": "JavaScript (Node.js)",
   "language": "javascript",
   "name": "javascript"
  },
  "language_info": {
   "file_extension": ".js",
   "mimetype": "application/javascript",
   "name": "javascript",
   "version": "18.16.0"
  }
 },
 "nbformat": 4,
 "nbformat_minor": 5
}
