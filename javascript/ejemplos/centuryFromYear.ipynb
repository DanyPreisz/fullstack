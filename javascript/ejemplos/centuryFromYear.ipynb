{
 "cells": [
  {
   "cell_type": "markdown",
   "id": "b40d3500",
   "metadata": {},
   "source": [
    "Ejercicio 2 de CodeSignal: Dado un año, retornar el siglo en el que se encuentra. El primer siglo abarca desde el año 1 al 100, el segundo del 101 al 200, etc."
   ]
  },
  {
   "cell_type": "code",
   "execution_count": 1,
   "id": "870da4f8",
   "metadata": {},
   "outputs": [
    {
     "name": "stdout",
     "output_type": "stream",
     "text": [
      "The year 2024 is in the 21 century.\n"
     ]
    }
   ],
   "source": [
    "function solution(year) {\n",
    "    // Calculate the century using the ceiling division\n",
    "    const century = Math.ceil(year / 100);\n",
    "\n",
    "    return century;\n",
    "}\n",
    "\n",
    "// Ejemplo:\n",
    "const year = 2024;\n",
    "const century = solution(year);\n",
    "console.log(`The year ${year} is in the ${century} century.`);"
   ]
  }
 ],
 "metadata": {
  "kernelspec": {
   "display_name": "JavaScript (Node.js)",
   "language": "javascript",
   "name": "javascript"
  },
  "language_info": {
   "file_extension": ".js",
   "mimetype": "application/javascript",
   "name": "javascript",
   "version": "18.16.0"
  }
 },
 "nbformat": 4,
 "nbformat_minor": 5
}
