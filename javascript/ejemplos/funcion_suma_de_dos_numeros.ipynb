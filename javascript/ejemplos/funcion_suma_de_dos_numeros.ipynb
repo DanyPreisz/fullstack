{
 "cells": [
  {
   "cell_type": "markdown",
   "id": "b3941cf4",
   "metadata": {},
   "source": [
    "Ejercicio 1 de CodeSignal: Escribir una función que retorne la suma de dos números."
   ]
  },
  {
   "cell_type": "code",
   "execution_count": 6,
   "id": "97ab25dc",
   "metadata": {},
   "outputs": [
    {
     "name": "stdout",
     "output_type": "stream",
     "text": [
      "12\n"
     ]
    }
   ],
   "source": [
    "function solution(param1, param2) {\n",
    "  return param1 + param2;\n",
    "}\n",
    "\n",
    "// Ejemplo:\n",
    "let resultado = solution(5, 7);\n",
    "console.log(resultado);  // Output: 12"
   ]
  }
 ],
 "metadata": {
  "kernelspec": {
   "display_name": "JavaScript (Node.js)",
   "language": "javascript",
   "name": "javascript"
  },
  "language_info": {
   "file_extension": ".js",
   "mimetype": "application/javascript",
   "name": "javascript",
   "version": "18.16.0"
  }
 },
 "nbformat": 4,
 "nbformat_minor": 5
}
