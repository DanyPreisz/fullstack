{
 "cells": [
  {
   "cell_type": "markdown",
   "id": "8a09bc20",
   "metadata": {},
   "source": [
    "El método split('').reverse().join('') se utiliza para invertir una cadena de caracteres"
   ]
  },
  {
   "cell_type": "code",
   "execution_count": 1,
   "id": "234ae502",
   "metadata": {},
   "outputs": [
    {
     "name": "stdout",
     "output_type": "stream",
     "text": [
      "Original:  Hola, mundo!\n",
      "Invertida:  !odnum ,aloH\n"
     ]
    }
   ],
   "source": [
    "let originalString = \"Hola, mundo!\";\n",
    "let reversedString = originalString.split('').reverse().join('');\n",
    "\n",
    "console.log(\"Original: \", originalString);\n",
    "console.log(\"Invertida: \", reversedString);"
   ]
  },
  {
   "cell_type": "markdown",
   "id": "405e6ab9",
   "metadata": {},
   "source": [
    "En este ejemplo, split('') convierte la cadena original en un array de caracteres, reverse() invierte el orden de los elementos en el array, y join('') vuelve a unir los caracteres en una cadena."
   ]
  }
 ],
 "metadata": {
  "kernelspec": {
   "display_name": "JavaScript (Node.js)",
   "language": "javascript",
   "name": "javascript"
  },
  "language_info": {
   "file_extension": ".js",
   "mimetype": "application/javascript",
   "name": "javascript",
   "version": "18.16.0"
  }
 },
 "nbformat": 4,
 "nbformat_minor": 5
}
